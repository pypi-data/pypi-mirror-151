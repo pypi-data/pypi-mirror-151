{
  "cells": [
    {
      "cell_type": "markdown",
      "metadata": {},
      "source": [
        "# test about profiling\n",
        "\n",
        "How to profile from a notebook with cProfile, memory_profiler"
      ]
    },
    {
      "cell_type": "code",
      "execution_count": 1,
      "metadata": {
        "collapsed": false
      },
      "outputs": [
        {
          "data": {
            "text/html": [
              "<div id=\"my_id_menu_nb\">run previous cell, wait for 2 seconds</div>\n",
              "<script>\n",
              "function repeat_indent_string(n){\n",
              "    var a = \"\" ;\n",
              "    for ( ; n > 0 ; --n) {\n",
              "        a += \"    \";\n",
              "    }\n",
              "    return a;\n",
              "}\n",
              "var update_menu = function() {\n",
              "    var anchors = document.getElementsByClassName(\"section\");\n",
              "    if (anchors.length == 0) {\n",
              "        anchors = document.getElementsByClassName(\"text_cell_render rendered_html\");\n",
              "    }\n",
              "    var i;\n",
              "    var text_menu = \"\";\n",
              "    var ind = \"\";\n",
              "    var memo_level = 1;\n",
              "    var href;\n",
              "    for (i = 0; i < anchors.length; i++) {\n",
              "        var child = anchors[i].children[0];\n",
              "        if (anchors[i].hasAttribute(\"id\")) {\n",
              "            href = anchors[i].id;\n",
              "        }\n",
              "        else if (child.hasAttribute(\"id\")) {\n",
              "            href = child.id;\n",
              "        }\n",
              "        else {\n",
              "            continue;\n",
              "        }\n",
              "        var title = child.textContent;\n",
              "        var level = parseInt(child.tagName.substring(1,2));\n",
              "        if ((level <= 2) || (level > 4)) {\n",
              "            continue ;\n",
              "        }\n",
              "        if (title.endsWith('\u00b6')) {\n",
              "            title = title.substring(0,title.length-1).replace(\"<\", \"&lt;\").replace(\">\", \"&gt;\").replace(\"&\", \"&amp;\")\n",
              "        }\n",
              "        if (title.length == 0) {\n",
              "            continue;\n",
              "        }\n",
              "        while (level > memo_level) {\n",
              "            text_menu += \"<ul>\\n\";\n",
              "            memo_level += 1;\n",
              "        }\n",
              "        while (level < memo_level) {\n",
              "            text_menu += \"</ul>\\n\";\n",
              "            memo_level -= 1;\n",
              "        }\n",
              "        text_menu += repeat_indent_string(level-2) + '<li><a href=\"#' + href + '\">' + title + '</a></li>';\n",
              "    }\n",
              "    while (1 < memo_level) {\n",
              "        text_menu += \"</ul>\\n\";\n",
              "        memo_level -= 1;\n",
              "    }\n",
              "    text_menu += \"\";\n",
              "    var menu = document.getElementById(\"my_id_menu_nb\");\n",
              "    menu.innerHTML=text_menu;\n",
              "};\n",
              "window.setTimeout(update_menu,2000);\n",
              "            </script>"
            ],
            "text/plain": [
              "<IPython.core.display.HTML object>"
            ]
          },
          "execution_count": 2,
          "metadata": {},
          "output_type": "execute_result"
        }
      ],
      "source": [
        "from jyquickhelper import add_notebook_menu\n",
        "add_notebook_menu()"
      ]
    },
    {
      "cell_type": "markdown",
      "metadata": {},
      "source": [
        "### profiling with cProfile"
      ]
    },
    {
      "cell_type": "code",
      "execution_count": 2,
      "metadata": {
        "collapsed": false
      },
      "outputs": [
        {
          "name": "stdout",
          "output_type": "stream",
          "text": [
            " \n",
            "*** Profile stats marshalled to file 'profile_example.stat'. \n",
            "\n",
            "*** Profile printout saved to text file 'profile_example.txt'. \n"
          ]
        }
      ],
      "source": [
        "def big_list1(n):\n",
        "    l = []\n",
        "    for i in range(n):\n",
        "        l.append(i)\n",
        "    return l\n",
        "\n",
        "def big_list2(n):\n",
        "    return list(range(n))\n",
        "\n",
        "def big_list(n):\n",
        "    big_list1(n)\n",
        "    big_list2(n)\n",
        "\n",
        "%prun -q -T profile_example.txt -D profile_example.stat big_list(100000) "
      ]
    },
    {
      "cell_type": "code",
      "execution_count": 3,
      "metadata": {
        "collapsed": false
      },
      "outputs": [
        {
          "name": "stdout",
          "output_type": "stream",
          "text": [
            "         100006 function calls in 0.142 seconds\n",
            "\n",
            "   Ordered by: internal time\n",
            "\n",
            "   ncalls  tottime  percall  cumtime  percall filename:lineno(function)\n",
            "        1    0.098    0.098    0.124    0.124 <ipython-input-45-e328f4dea298>:1(big_list1)\n",
            "   100000    0.026    0.000    0.026    0.000 {method 'append' of 'list' objects}\n",
            "        1    0.009    0.009    0.142    0.142 <ipython-input-45-e328f4dea298>:10(big_list)\n",
            "        1    0.009    0.009    0.009    0.009 <ipython-input-45-e328f4dea298>:7(big_list2)\n",
            "        1    0.000    0.000    0.142    0.142 {built-in method exec}\n",
            "        1    0.000    0.000    0.142    0.142 <string>:1(<module>)\n",
            "        1    0.000    0.000    0.000    0.000 {method 'disable' of '_lsprof.Profiler' objects}\n"
          ]
        }
      ],
      "source": [
        "with open('profile_example.txt', 'r') as f: content = f.read()\n",
        "print(content)"
      ]
    },
    {
      "cell_type": "code",
      "execution_count": 4,
      "metadata": {
        "collapsed": false
      },
      "outputs": [
        {
          "name": "stdout",
          "output_type": "stream",
          "text": [
            "Wed Sep  9 10:55:54 2015    profile_example.stat\n",
            "\n",
            "         100006 function calls in 0.117 seconds\n",
            "\n",
            "   Ordered by: cumulative time\n",
            "\n",
            "   ncalls  tottime  percall  cumtime  percall filename:lineno(function)\n",
            "        1    0.000    0.000    0.117    0.117 {built-in method exec}\n",
            "        1    0.000    0.000    0.117    0.117 <string>:1(<module>)\n",
            "        1    0.007    0.007    0.117    0.117 <ipython-input-51-720be8d7293b>:10(big_list)\n",
            "        1    0.079    0.079    0.101    0.101 <ipython-input-51-720be8d7293b>:1(big_list1)\n",
            "   100000    0.022    0.000    0.022    0.000 {method 'append' of 'list' objects}\n",
            "        1    0.008    0.008    0.008    0.008 <ipython-input-51-720be8d7293b>:7(big_list2)\n",
            "        1    0.000    0.000    0.000    0.000 {method 'disable' of '_lsprof.Profiler' objects}\n",
            "\n",
            "\n"
          ]
        },
        {
          "data": {
            "text/plain": [
              "<pstats.Stats at 0x944c2e8>"
            ]
          },
          "execution_count": 5,
          "metadata": {},
          "output_type": "execute_result"
        }
      ],
      "source": [
        "import pstats\n",
        "p = pstats.Stats('profile_example.stat')\n",
        "p.strip_dirs().sort_stats('cumulative').print_stats()"
      ]
    },
    {
      "cell_type": "markdown",
      "metadata": {},
      "source": [
        "### Memory profile"
      ]
    },
    {
      "cell_type": "code",
      "execution_count": 5,
      "metadata": {
        "collapsed": false
      },
      "outputs": [
        {
          "data": {
            "text/plain": [
              "[97.69921875, 97.69921875, 97.69921875, 97.69921875, 97.69921875]"
            ]
          },
          "execution_count": 6,
          "metadata": {},
          "output_type": "execute_result"
        }
      ],
      "source": [
        "from memory_profiler import memory_usage\n",
        "mem_usage = memory_usage(-1, interval=.2, timeout=1)\n",
        "mem_usage"
      ]
    },
    {
      "cell_type": "markdown",
      "metadata": {},
      "source": [
        "Thz functions to test must be part of file and cannot be implemented in the notebook. So we save the funtion in script and we import it just after."
      ]
    },
    {
      "cell_type": "code",
      "execution_count": 6,
      "metadata": {
        "collapsed": false
      },
      "outputs": [
        {
          "name": "stdout",
          "output_type": "stream",
          "text": [
            "Writing script_test.py\n"
          ]
        }
      ],
      "source": [
        "%%file script_test.py\n",
        "\n",
        "def big_list1(n):\n",
        "    l = []\n",
        "    for i in range(n):\n",
        "        l.append(i)\n",
        "    return l\n",
        "\n",
        "def big_list2(n):\n",
        "    return list(range(n))\n",
        "\n",
        "def big_list(n):\n",
        "    big_list1(n)\n",
        "    big_list2(n)"
      ]
    },
    {
      "cell_type": "code",
      "execution_count": 7,
      "metadata": {
        "collapsed": true
      },
      "outputs": [],
      "source": [
        "from script_test import big_list, big_list1, big_list2"
      ]
    },
    {
      "cell_type": "markdown",
      "metadata": {},
      "source": [
        "We run the momory profiling: "
      ]
    },
    {
      "cell_type": "code",
      "execution_count": 8,
      "metadata": {
        "collapsed": true
      },
      "outputs": [],
      "source": [
        "%load_ext memory_profiler"
      ]
    },
    {
      "cell_type": "code",
      "execution_count": 9,
      "metadata": {
        "collapsed": false
      },
      "outputs": [
        {
          "name": "stdout",
          "output_type": "stream",
          "text": [
            "\n",
            "\n",
            "*** Profile printout saved to text file profile_example.mem. \n"
          ]
        }
      ],
      "source": [
        "prof = %mprun -r -f big_list1 -f big_list2 -T profile_example.mem -r big_list(100000)"
      ]
    },
    {
      "cell_type": "code",
      "execution_count": 10,
      "metadata": {
        "collapsed": false
      },
      "outputs": [
        {
          "name": "stdout",
          "output_type": "stream",
          "text": [
            "Filename: C:\\xadupre\\__home_\\_data\\GitHub\\pymyinstall\\_doc\\notebooks\\script_test.py\n",
            "\n",
            "Line #    Mem usage    Increment   Line Contents\n",
            "================================================\n",
            "     2     38.3 MiB      0.0 MiB   def big_list1(n):\n",
            "     3     38.3 MiB      0.0 MiB       l = []\n",
            "     4     42.1 MiB      3.8 MiB       for i in range(n):\n",
            "     5     42.1 MiB      0.0 MiB           l.append(i)\n",
            "     6     42.1 MiB      0.0 MiB       return l\n",
            "\n",
            "\n",
            "Filename: C:\\xadupre\\__home_\\_data\\GitHub\\pymyinstall\\_doc\\notebooks\\script_test.py\n",
            "\n",
            "Line #    Mem usage    Increment   Line Contents\n",
            "================================================\n",
            "     8     39.1 MiB      0.0 MiB   def big_list2(n):\n",
            "     9     42.9 MiB      3.8 MiB       return list(range(n))\n"
          ]
        }
      ],
      "source": [
        "with open('profile_example.mem', 'r') as f : content = f.read()\n",
        "print(content)"
      ]
    },
    {
      "cell_type": "markdown",
      "metadata": {},
      "source": [
        "### SnakeViz"
      ]
    },
    {
      "cell_type": "code",
      "execution_count": 11,
      "metadata": {
        "collapsed": true
      },
      "outputs": [],
      "source": [
        "%load_ext snakeviz"
      ]
    },
    {
      "cell_type": "code",
      "execution_count": 12,
      "metadata": {
        "collapsed": false
      },
      "outputs": [
        {
          "data": {
            "text/plain": [
              "['Usage: snakeviz [options] filename',\n",
              " '',\n",
              " 'Options:',\n",
              " '  -h, --help            show this help message and exit',\n",
              " '  -H ADDR, --hostname=ADDR',\n",
              " '                        hostname to bind to (default: 127.0.0.1',\n",
              " '  -p PORT, --port=PORT  port to bind to; if this port is already in use a free',\n",
              " '                        port will be selected automatically (default: 8080)',\n",
              " '  -b PATH, --browser=PATH',\n",
              " '                        name of webbrowser to launch as described in the',\n",
              " \"                        documentation of Python's webbrowser module:\",\n",
              " '                        https://docs.python.org/3/library/webbrowser.html',\n",
              " '  -s, --server          start SnakeViz in server-only mode--no attempt will be',\n",
              " '                        to open a browser']"
            ]
          },
          "execution_count": 13,
          "metadata": {},
          "output_type": "execute_result"
        }
      ],
      "source": [
        "%system snakeviz --help"
      ]
    },
    {
      "cell_type": "markdown",
      "metadata": {},
      "source": [
        "See [How to visualize Python profile data with SnakeViz](http://codeyarns.com/2015/02/23/how-to-visualize-python-profile-data-with-snakeviz/)."
      ]
    },
    {
      "cell_type": "code",
      "execution_count": 13,
      "metadata": {
        "collapsed": true
      },
      "outputs": [],
      "source": []
    }
  ],
  "metadata": {
    "kernelspec": {
      "display_name": "Python 3",
      "language": "python",
      "name": "python3"
    },
    "language_info": {
      "codemirror_mode": {
        "name": "ipython",
        "version": 3
      },
      "file_extension": ".py",
      "mimetype": "text/x-python",
      "name": "python",
      "nbconvert_exporter": "python",
      "pygments_lexer": "ipython3",
      "version": "3.5.2"
    }
  },
  "nbformat": 4,
  "nbformat_minor": 0
}