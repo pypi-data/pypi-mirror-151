{
  "cells": [
    {
      "cell_type": "markdown",
      "metadata": {},
      "source": [
        "# version_information\n",
        "\n",
        "Use module version_information to display information about a module."
      ]
    },
    {
      "cell_type": "code",
      "execution_count": 1,
      "metadata": {
        "collapsed": true
      },
      "outputs": [],
      "source": [
        "%load_ext version_information"
      ]
    },
    {
      "cell_type": "code",
      "execution_count": 2,
      "metadata": {
        "collapsed": false
      },
      "outputs": [
        {
          "data": {
            "application/json": {
              "Software versions": [
                {
                  "module": "Python",
                  "version": "3.5.0 64bit [MSC v.1900 64 bit (AMD64)]"
                },
                {
                  "module": "IPython",
                  "version": "4.2.0"
                },
                {
                  "module": "OS",
                  "version": "Windows 10.0.10586"
                },
                {
                  "module": "numpy",
                  "version": "1.11.1rc1"
                },
                {
                  "module": "scipy",
                  "version": "0.17.1"
                },
                {
                  "module": "xgboost",
                  "version": "0.4"
                }
              ]
            },
            "text/html": [
              "<table><tr><th>Software</th><th>Version</th></tr><tr><td>Python</td><td>3.5.0 64bit [MSC v.1900 64 bit (AMD64)]</td></tr><tr><td>IPython</td><td>4.2.0</td></tr><tr><td>OS</td><td>Windows 10.0.10586</td></tr><tr><td>numpy</td><td>1.11.1rc1</td></tr><tr><td>scipy</td><td>0.17.1</td></tr><tr><td>xgboost</td><td>0.4</td></tr><tr><td colspan='2'>Sat Jun 18 11:50:39 2016 Paris, Madrid (heure d?\u00e9t\u00e9)</td></tr></table>"
            ],
            "text/latex": [
              "\\begin{tabular}{|l|l|}\\hline\n",
              "{\\bf Software} & {\\bf Version} \\\\ \\hline\\hline\n",
              "Python & 3.5.0 64bit [MSC v.1900 64 bit (AMD64)] \\\\ \\hline\n",
              "IPython & 4.2.0 \\\\ \\hline\n",
              "OS & Windows 10.0.10586 \\\\ \\hline\n",
              "numpy & 1.11.1rc1 \\\\ \\hline\n",
              "scipy & 0.17.1 \\\\ \\hline\n",
              "xgboost & 0.4 \\\\ \\hline\n",
              "\\hline \\multicolumn{2}{|l|}{Sat Jun 18 11:50:39 2016 Paris, Madrid (heure d?\u00e9t\u00e9)} \\\\ \\hline\n",
              "\\end{tabular}\n"
            ],
            "text/plain": [
              "Software versions\n",
              "Python 3.5.0 64bit [MSC v.1900 64 bit (AMD64)]\n",
              "IPython 4.2.0\n",
              "OS Windows 10.0.10586\n",
              "numpy 1.11.1rc1\n",
              "scipy 0.17.1\n",
              "xgboost 0.4\n",
              "Sat Jun 18 11:50:39 2016 Paris, Madrid (heure d?\u00e9t\u00e9)"
            ]
          },
          "execution_count": 3,
          "metadata": {},
          "output_type": "execute_result"
        }
      ],
      "source": [
        "%version_information numpy, scipy, xgboost"
      ]
    },
    {
      "cell_type": "code",
      "execution_count": 3,
      "metadata": {
        "collapsed": true
      },
      "outputs": [],
      "source": []
    }
  ],
  "metadata": {
    "kernelspec": {
      "display_name": "Python 3",
      "language": "python",
      "name": "python3"
    },
    "language_info": {
      "codemirror_mode": {
        "name": "ipython",
        "version": 3
      },
      "file_extension": ".py",
      "mimetype": "text/x-python",
      "name": "python",
      "nbconvert_exporter": "python",
      "pygments_lexer": "ipython3",
      "version": "3.5.2"
    }
  },
  "nbformat": 4,
  "nbformat_minor": 0
}