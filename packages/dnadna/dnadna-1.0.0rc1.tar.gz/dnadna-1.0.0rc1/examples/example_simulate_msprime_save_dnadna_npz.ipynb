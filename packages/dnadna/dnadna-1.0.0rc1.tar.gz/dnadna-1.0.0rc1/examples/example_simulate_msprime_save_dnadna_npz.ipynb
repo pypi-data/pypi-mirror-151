{
 "cells": [
  {
   "cell_type": "code",
   "execution_count": 1,
   "metadata": {},
   "outputs": [
    {
     "name": "stdout",
     "output_type": "stream",
     "text": [
      "Simulations will be saved in simulations_hX09jsbdc89fez/data_test/\n",
      "0\n",
      "Warning: overwriting simulations_hX09jsbdc89fez/data_test/scenario_0/data_test_0_0.npz.\n",
      "Warning: overwriting simulations_hX09jsbdc89fez/data_test/scenario_0/data_test_0_1.npz.\n",
      "Warning: overwriting simulations_hX09jsbdc89fez/data_test/scenario_0/data_test_0_2.npz.\n",
      "Warning: overwriting simulations_hX09jsbdc89fez/data_test/scenario_0/data_test_0_3.npz.\n",
      "Warning: overwriting simulations_hX09jsbdc89fez/data_test/scenario_0/data_test_0_4.npz.\n",
      "Warning: overwriting simulations_hX09jsbdc89fez/data_test/scenario_0/data_test_0_5.npz.\n",
      "1\n",
      "Warning: overwriting simulations_hX09jsbdc89fez/data_test/scenario_1/data_test_1_0.npz.\n",
      "Warning: overwriting simulations_hX09jsbdc89fez/data_test/scenario_1/data_test_1_1.npz.\n",
      "Warning: overwriting simulations_hX09jsbdc89fez/data_test/scenario_1/data_test_1_2.npz.\n",
      "Warning: overwriting simulations_hX09jsbdc89fez/data_test/scenario_1/data_test_1_3.npz.\n",
      "Warning: overwriting simulations_hX09jsbdc89fez/data_test/scenario_1/data_test_1_4.npz.\n",
      "Warning: overwriting simulations_hX09jsbdc89fez/data_test/scenario_1/data_test_1_5.npz.\n",
      "2\n",
      "Warning: overwriting simulations_hX09jsbdc89fez/data_test/scenario_2/data_test_2_0.npz.\n",
      "Warning: overwriting simulations_hX09jsbdc89fez/data_test/scenario_2/data_test_2_1.npz.\n",
      "Warning: overwriting simulations_hX09jsbdc89fez/data_test/scenario_2/data_test_2_2.npz.\n",
      "Warning: overwriting simulations_hX09jsbdc89fez/data_test/scenario_2/data_test_2_3.npz.\n",
      "Warning: overwriting simulations_hX09jsbdc89fez/data_test/scenario_2/data_test_2_4.npz.\n",
      "Warning: overwriting simulations_hX09jsbdc89fez/data_test/scenario_2/data_test_2_5.npz.\n"
     ]
    }
   ],
   "source": [
    "import numpy as np\n",
    "import msprime\n",
    "import os\n",
    "import pandas as pd\n",
    "\n",
    "simu_settings = {    \n",
    "    'n_samples': 5,\n",
    "    'n_replicates': 6,\n",
    "    'segment_length': 2e4,\n",
    "    'recombination_rate': 1e-8,\n",
    "    'mutation_rate': 5e-7,\n",
    "               }\n",
    "\n",
    "dataset_name = 'data_test'\n",
    "outdir = f'simulations_hX09jsbdc89fez/{dataset_name}/'\n",
    "scenario_params_path =  os.path.join(outdir, f\"{dataset_name}_params.csv\")\n",
    "list_params = []\n",
    "print(f'Simulations will be saved in {outdir}')\n",
    "\n",
    "n_scenarios = 3\n",
    "for scenario in range(n_scenarios):\n",
    "    print(scenario)\n",
    "    # Draw param\n",
    "    Ne = np.random.uniform(100,1000)\n",
    "    \n",
    "    # Store simulation parameters\n",
    "    list_params.append(dict(**dict({'scenario_idx':scenario,'Ne':Ne}, **simu_settings)))\n",
    "    \n",
    "    # Simulate\n",
    "    tree_sequence = list(msprime.simulate(\n",
    "        sample_size = simu_settings['n_samples'], \n",
    "        num_replicates = simu_settings['n_replicates'],\n",
    "        length = simu_settings['segment_length'], \n",
    "        recombination_rate = simu_settings['recombination_rate'], \n",
    "        mutation_rate = simu_settings['mutation_rate'], \n",
    "        Ne = Ne, \n",
    "    ))\n",
    "    \n",
    "    # Save data in DNADNA format\n",
    "    for replicate, ts in enumerate(tree_sequence):\n",
    "        snps = ts.genotype_matrix().T.astype(np.uint8)\n",
    "        pos = np.round(ts.tables.asdict()[\"sites\"][\"position\"]).astype(int)\n",
    "        # Default layout (can be changed)\n",
    "        filename = f\"scenario_{scenario}/{dataset_name}_{scenario}_{replicate}.npz\"\n",
    "        fullpath = os.path.join(outdir, filename)\n",
    "        if os.path.isfile(fullpath):\n",
    "            print(f\"Warning: overwriting {fullpath}.\")\n",
    "\n",
    "        os.makedirs(os.path.dirname(fullpath), exist_ok=True)\n",
    "        np.savez_compressed(fullpath, SNP=snps, POS=pos)\n",
    "        \n",
    "scenario_par = pd.DataFrame(list_params,columns=list_params[0].keys())\n",
    "scenario_par.to_csv(scenario_params_path)"
   ]
  },
  {
   "cell_type": "code",
   "execution_count": 2,
   "metadata": {},
   "outputs": [
    {
     "data": {
      "text/html": [
       "<div>\n",
       "<style scoped>\n",
       "    .dataframe tbody tr th:only-of-type {\n",
       "        vertical-align: middle;\n",
       "    }\n",
       "\n",
       "    .dataframe tbody tr th {\n",
       "        vertical-align: top;\n",
       "    }\n",
       "\n",
       "    .dataframe thead th {\n",
       "        text-align: right;\n",
       "    }\n",
       "</style>\n",
       "<table border=\"1\" class=\"dataframe\">\n",
       "  <thead>\n",
       "    <tr style=\"text-align: right;\">\n",
       "      <th></th>\n",
       "      <th>scenario_idx</th>\n",
       "      <th>Ne</th>\n",
       "      <th>n_samples</th>\n",
       "      <th>n_replicates</th>\n",
       "      <th>segment_length</th>\n",
       "      <th>recombination_rate</th>\n",
       "      <th>mutation_rate</th>\n",
       "    </tr>\n",
       "  </thead>\n",
       "  <tbody>\n",
       "    <tr>\n",
       "      <td>0</td>\n",
       "      <td>0</td>\n",
       "      <td>324.317130</td>\n",
       "      <td>5</td>\n",
       "      <td>6</td>\n",
       "      <td>20000.0</td>\n",
       "      <td>1.000000e-08</td>\n",
       "      <td>5.000000e-07</td>\n",
       "    </tr>\n",
       "    <tr>\n",
       "      <td>1</td>\n",
       "      <td>1</td>\n",
       "      <td>982.083469</td>\n",
       "      <td>5</td>\n",
       "      <td>6</td>\n",
       "      <td>20000.0</td>\n",
       "      <td>1.000000e-08</td>\n",
       "      <td>5.000000e-07</td>\n",
       "    </tr>\n",
       "    <tr>\n",
       "      <td>2</td>\n",
       "      <td>2</td>\n",
       "      <td>589.529747</td>\n",
       "      <td>5</td>\n",
       "      <td>6</td>\n",
       "      <td>20000.0</td>\n",
       "      <td>1.000000e-08</td>\n",
       "      <td>5.000000e-07</td>\n",
       "    </tr>\n",
       "  </tbody>\n",
       "</table>\n",
       "</div>"
      ],
      "text/plain": [
       "   scenario_idx          Ne  n_samples  n_replicates  segment_length  \\\n",
       "0             0  324.317130          5             6         20000.0   \n",
       "1             1  982.083469          5             6         20000.0   \n",
       "2             2  589.529747          5             6         20000.0   \n",
       "\n",
       "   recombination_rate  mutation_rate  \n",
       "0        1.000000e-08   5.000000e-07  \n",
       "1        1.000000e-08   5.000000e-07  \n",
       "2        1.000000e-08   5.000000e-07  "
      ]
     },
     "execution_count": 2,
     "metadata": {},
     "output_type": "execute_result"
    }
   ],
   "source": [
    "scenario_par"
   ]
  },
  {
   "cell_type": "code",
   "execution_count": 3,
   "metadata": {},
   "outputs": [
    {
     "name": "stdout",
     "output_type": "stream",
     "text": [
      ",scenario_idx,Ne,n_samples,n_replicates,segment_length,recombination_rate,mutation_rate\n",
      "0,0,324.3171297251008,5,6,20000.0,1e-08,5e-07\n",
      "1,1,982.0834692427014,5,6,20000.0,1e-08,5e-07\n",
      "2,2,589.529747274963,5,6,20000.0,1e-08,5e-07\n",
      "\u001b[K\u001b[7m(END)\u001b[m\u001b[K09jsbdc89fez/data_test/data_test_params.csv (END)\u001b[m\u001b[K\u0007"
     ]
    }
   ],
   "source": [
    "! less {scenario_params_path}"
   ]
  },
  {
   "cell_type": "markdown",
   "metadata": {},
   "source": [
    "## Check loading of one of the npz in dnadna environment:"
   ]
  },
  {
   "cell_type": "code",
   "execution_count": 5,
   "metadata": {},
   "outputs": [
    {
     "data": {
      "text/plain": [
       "SNPSample(\n",
       "    snp=tensor([[1, 1, 1, 1, 1, 0, 1, 0, 0, 0, 0, 1, 1, 1, 0, 1, 0, 0, 0, 1, 1, 0, 0, 1,\n",
       "                 0, 0, 1, 1, 0, 0, 0, 0, 1, 0, 0, 0, 1, 0, 1, 1, 0, 1, 0, 0, 1, 1, 0, 1,\n",
       "                 1, 1, 0, 1, 0, 0, 0, 1, 1, 1, 1, 0, 1, 1, 1, 1, 0, 1, 0, 0, 1, 0, 0, 1,\n",
       "                 1, 0, 1, 0, 1, 0, 0, 1, 1, 0, 1, 0, 1, 1, 1, 0, 1],\n",
       "                [1, 1, 1, 1, 1, 0, 1, 0, 0, 0, 0, 1, 1, 1, 0, 1, 0, 0, 0, 1, 1, 0, 0, 1,\n",
       "                 0, 0, 1, 1, 0, 0, 0, 0, 1, 0, 0, 0, 1, 0, 1, 1, 0, 1, 0, 0, 1, 1, 0, 1,\n",
       "                 1, 1, 0, 1, 0, 0, 0, 1, 1, 1, 1, 0, 1, 1, 1, 1, 0, 1, 0, 0, 1, 0, 0, 1,\n",
       "                 1, 0, 1, 0, 1, 0, 0, 1, 1, 0, 1, 0, 1, 1, 1, 0, 1],\n",
       "                [0, 0, 0, 0, 0, 1, 0, 1, 1, 1, 1, 0, 0, 0, 1, 0, 1, 1, 1, 0, 0, 1, 1, 0,\n",
       "                 1, 1, 0, 0, 1, 1, 1, 1, 0, 1, 1, 1, 0, 1, 0, 0, 1, 0, 1, 1, 0, 0, 1, 0,\n",
       "                 0, 0, 0, 0, 1, 1, 1, 0, 0, 0, 0, 1, 0, 0, 0, 0, 1, 0, 1, 1, 0, 1, 1, 0,\n",
       "                 0, 1, 0, 1, 0, 1, 1, 0, 0, 1, 0, 1, 0, 0, 0, 1, 0],\n",
       "                [0, 0, 0, 0, 0, 1, 0, 1, 1, 1, 1, 0, 0, 0, 1, 0, 1, 1, 1, 0, 0, 1, 1, 0,\n",
       "                 1, 1, 0, 0, 1, 1, 1, 1, 0, 1, 1, 1, 0, 1, 0, 0, 1, 0, 1, 1, 0, 0, 1, 0,\n",
       "                 0, 0, 0, 0, 1, 1, 1, 0, 0, 0, 0, 1, 0, 0, 0, 0, 1, 0, 1, 1, 0, 1, 1, 0,\n",
       "                 0, 1, 0, 1, 0, 1, 1, 0, 0, 1, 0, 1, 0, 0, 0, 1, 0],\n",
       "                [0, 0, 0, 0, 0, 1, 0, 1, 1, 1, 1, 0, 0, 0, 1, 0, 1, 1, 1, 0, 0, 1, 1, 0,\n",
       "                 1, 1, 0, 0, 1, 1, 1, 1, 0, 0, 1, 0, 0, 1, 0, 0, 1, 0, 1, 1, 0, 0, 1, 0,\n",
       "                 0, 0, 1, 0, 1, 1, 1, 0, 0, 0, 0, 1, 0, 0, 0, 0, 1, 0, 1, 1, 0, 1, 1, 0,\n",
       "                 0, 1, 0, 1, 0, 1, 1, 0, 0, 1, 0, 1, 0, 0, 0, 1, 0]],\n",
       "               dtype=torch.uint8),\n",
       "    pos=tensor([  264,   527,   663,   729,  1018,  1361,  1674,  1769,  2411,  2658,\n",
       "                 2713,  3257,  3760,  4158,  4268,  4362,  5034,  5107,  5417,  5447,\n",
       "                 5550,  5860,  5922,  6258,  6754,  6877,  7236,  7370,  7383,  7522,\n",
       "                 7911,  8015,  8023,  8378,  8390,  8530,  8589,  9159,  9255,  9422,\n",
       "                 9931,  9962, 10168, 10286, 10509, 10528, 10572, 10863, 10890, 10996,\n",
       "                11068, 11109, 11322, 11629, 11659, 11780, 12014, 12269, 12503, 12550,\n",
       "                12596, 12605, 12942, 13398, 13626, 13640, 13807, 14149, 14197, 14243,\n",
       "                14586, 15768, 15973, 16474, 16848, 16967, 17136, 17167, 17374, 17528,\n",
       "                17619, 17924, 17964, 18186, 18462, 18601, 19137, 19370, 19811]),\n",
       "    path=PosixPath('/home/fjay/Documents/WORK/GITLAB/private/dnadna/simulations_hX09jsbdc89fez/data_test/scenario_2/data_test_2_5.npz')\n",
       ")"
      ]
     },
     "execution_count": 5,
     "metadata": {},
     "output_type": "execute_result"
    }
   ],
   "source": [
    "from dnadna.snp_sample import SNPSample\n",
    "SNPSample.from_file(fullpath)\n"
   ]
  }
 ],
 "metadata": {
  "kernelspec": {
   "display_name": "Python 3",
   "language": "python",
   "name": "python3"
  },
  "language_info": {
   "codemirror_mode": {
    "name": "ipython",
    "version": 3
   },
   "file_extension": ".py",
   "mimetype": "text/x-python",
   "name": "python",
   "nbconvert_exporter": "python",
   "pygments_lexer": "ipython3",
   "version": "3.7.6"
  }
 },
 "nbformat": 4,
 "nbformat_minor": 4
}
