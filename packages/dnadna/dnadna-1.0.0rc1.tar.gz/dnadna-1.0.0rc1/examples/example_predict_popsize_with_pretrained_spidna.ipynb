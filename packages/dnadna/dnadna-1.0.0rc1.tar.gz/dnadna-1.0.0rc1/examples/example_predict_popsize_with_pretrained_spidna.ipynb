{
 "cells": [
  {
   "cell_type": "markdown",
   "metadata": {},
   "source": [
    "# dnadna: Deep Neural Architecture for DNA\n",
    "This notebook reproduces an example of population size history inference performed by the SPIDNA deep learning method described in the paper [\"Deep learning for population size history inference: design, comparison and combination with approximate Bayesian computation\"](https://www.biorxiv.org/content/10.1101/2020.01.20.910539v1.full.pdf) (Sanchez et al.). It uses the dnadna package that can be installed by following the instructions [here](https://mlgenetics.gitlab.io/dnadna/introduction.html#installation).\n",
    "\n",
    "We will simulate SNP data for six scenarios with population size history defined by hand (e.g. expansion, decline or bottleneck) and use a pretrained version of SPIDNA to reconstruct these population size histories. This architecture has been trained using data generated with msprime and prior described in Sanchez et al. [methods section](https://www.biorxiv.org/content/10.1101/2020.01.20.910539v1.full.pdf#page=9). Therefore, using the same architecture to infer population size histories far from this prior might lead to high prediction errors."
   ]
  },
  {
   "cell_type": "markdown",
   "metadata": {},
   "source": [
    "## Import"
   ]
  },
  {
   "cell_type": "code",
   "execution_count": null,
   "metadata": {},
   "outputs": [],
   "source": [
    "import numpy as np\n",
    "import pandas as pd\n",
    "import os\n",
    "import msprime\n",
    "import matplotlib.pyplot as plt\n",
    "import seaborn as sns\n",
    "import pandas as pd\n",
    "from pathlib import Path"
   ]
  },
  {
   "cell_type": "markdown",
   "metadata": {},
   "source": [
    "## Simulate scenario\n",
    "First, we simulate six different scenarios with 21 time steps using msprime (Kelleher et al., 2016)."
   ]
  },
  {
   "cell_type": "code",
   "execution_count": null,
   "metadata": {},
   "outputs": [],
   "source": [
    "def simulate_scenario(population_size, population_time, seed, num_replicates, mutation_rate, recombination_rate, \n",
    "                      segment_length, num_sample):\n",
    "    \n",
    "    demographic_events = [msprime.PopulationParametersChange(\n",
    "                time=population_time[i],\n",
    "                growth_rate=0,\n",
    "                initial_size=population_size[i]) for i in range(1, len(population_time))]\n",
    "\n",
    "    population_configurations = [msprime.PopulationConfiguration(\n",
    "                sample_size=num_sample,\n",
    "                initial_size=population_size[0])]\n",
    "\n",
    "    tree_sequence = msprime.simulate(\n",
    "                length=segment_length,\n",
    "                population_configurations=population_configurations,\n",
    "                demographic_events=demographic_events,\n",
    "                recombination_rate=recombination_rate,\n",
    "                mutation_rate=mutation_rate,\n",
    "                num_replicates=num_replicates,\n",
    "                random_seed=seed)\n",
    "    pos = []\n",
    "    snp = []\n",
    "    for i, rep in enumerate(tree_sequence):\n",
    "                positions = [variant.site.position for variant in rep.variants()]\n",
    "                positions = np.array(positions) - np.array([0] + positions[:-1])\n",
    "                positions = positions.astype(int)\n",
    "                pos.append(positions)\n",
    "                SNPs = rep.genotype_matrix().T.astype(np.uint8)\n",
    "                snp.append(SNPs)\n",
    "    data = [[snp[i], pos[i]] for i in range(len(snp))]\n",
    "    data = [np.vstack([d[1], d[0]]) for d in data]\n",
    "    return data"
   ]
  },
  {
   "cell_type": "code",
   "execution_count": null,
   "metadata": {},
   "outputs": [],
   "source": [
    "# Population sizes are defined on a log10 scale\n",
    "scenarios = {'Medium': [3.7, 3.7, 3.7, 3.7, 3.7, 3.7, 3.7, 3.7, 3.7, 3.7, 3.7, 3.7, 3.7, 3.7, 3.7, 3.7, 3.7, 3.7, 3.7, 3.7, 3.7],   \n",
    "             'Large': 4.7 * np.ones(shape=21, dtype='float'), \n",
    "             'Decline': [2.5, 2.5, 3, 3, 3, 3, 3.2, 3.4, 3.6, 3.8, 4, 4.2, 4.6, 4.6, 4.6, 4.6, 4.6, 4.6, 4.6, 4.6, 4.6], \n",
    "             'Expansion': [4.7, 4.7, 4.7, 4.6, 4.6, 4.5, 4.4, 4.3, 4, 3.7, 3.4, 3.4, 3.4, 3.4, 3.4, 3.4, 3.4, 3.4, 3.4, 3.4, 3.4], \n",
    "             'Bottleneck': [4.8, 4.8, 4.8, 4.8, 4.8, 4.8, 4.8, 4.8, 4.8, 4.5, 4.15, 3.8, 4.3, 4.8, 4.55, 4.3, 4.05, 3.8, 3.8, 3.8, 3.8], \n",
    "             'Zigzag': [4.8, 4.8, 4.8, 4.5, 4.15, 3.8, 4.15, 4.5, 4.8, 4.5, 4.15, 3.8, 4.3, 4.8, 4.55, 4.3, 4.05, 3.8, 3.8, 3.8, 3.8]}\n",
    "scenarios = {k:10**np.array(scenarios[k]) for k in scenarios.keys()}\n",
    "seed = 2\n",
    "num_replicates = 100\n",
    "mutation_rate = 1e-8\n",
    "segment_length = 2e6\n",
    "time_rate = 0.06\n",
    "tmax = 130000\n",
    "num_time_windows = 21\n",
    "num_sample = 50\n",
    "population_time = [(np.exp(np.log(1 + time_rate * tmax) * i /\n",
    "                  (num_time_windows - 1)) - 1) / time_rate for i in\n",
    "                  range(num_time_windows)]\n",
    "snp_data = {}\n",
    "for k in scenarios.keys():\n",
    "    print(f'Simulating scenario \\\"{k}\\\"')\n",
    "    population_size = scenarios[k]\n",
    "    recombination_rate = np.random.uniform(low=1e-9, high=1e-8)\n",
    "    snp_data[k] = simulate_scenario(population_size, population_time, seed, num_replicates, mutation_rate, \n",
    "                             recombination_rate, segment_length, num_sample)"
   ]
  },
  {
   "cell_type": "markdown",
   "metadata": {},
   "source": [
    "## Save data\n",
    "We save data into ```.npz``` files with two keywords ```SNP``` and ```POS``` for the SNP matrix and its associated position vector."
   ]
  },
  {
   "cell_type": "code",
   "execution_count": null,
   "metadata": {},
   "outputs": [],
   "source": [
    "data_path = 'data'\n",
    "Path(data_path).mkdir(parents=True, exist_ok=True)\n",
    "file_list = []\n",
    "for k in snp_data.keys():\n",
    "    Path(os.path.join(data_path, k)).mkdir(parents=True, exist_ok=True)\n",
    "    for i in range(len(snp_data[k])):\n",
    "        SNP = snp_data[k][i][1:,:]\n",
    "        POS = snp_data[k][i][0,:]\n",
    "        npz_save_path = os.path.join(data_path, k, f'{k}_{i}')\n",
    "        np.savez(npz_save_path, POS=POS, SNP=SNP)\n",
    "        file_list.append(f'{npz_save_path}.npz')\n",
    "with open('file_list', 'a') as f:\n",
    "    f.write('\\n'.join(file_list))"
   ]
  },
  {
   "cell_type": "markdown",
   "metadata": {},
   "source": [
    "## Inference with dnadna package"
   ]
  },
  {
   "cell_type": "markdown",
   "metadata": {},
   "source": [
    "You can use the _predict_ command with arguments _--progress-bar_ (displays a progress bar for prediction) as follows:"
   ]
  },
  {
   "cell_type": "code",
   "execution_count": null,
   "metadata": {},
   "outputs": [],
   "source": [
    "! dnadna predict pretrained_SPIDNA/pretrained_SPIDNA_net.pth $(cat file_list) --progress-bar -o result.csv"
   ]
  },
  {
   "cell_type": "markdown",
   "metadata": {},
   "source": [
    "You can use Bash wildcards when specifying paths in dnadna commands such as:"
   ]
  },
  {
   "cell_type": "code",
   "execution_count": null,
   "metadata": {},
   "outputs": [],
   "source": [
    "! dnadna predict pretrained_SPIDNA/pretrained_SPIDNA_net.pth data/*/*.npz -o result_bis.csv --progress-bar"
   ]
  },
  {
   "cell_type": "markdown",
   "metadata": {},
   "source": [
    "## Generate Plot"
   ]
  },
  {
   "cell_type": "code",
   "execution_count": null,
   "metadata": {},
   "outputs": [],
   "source": [
    "# Load predictions\n",
    "predictions = pd.read_csv('result.csv')\n",
    "predictions['scenario_name'] = predictions.apply(lambda path: path[0].split('/')[-2], axis=1)\n",
    "predictions = predictions.drop(columns=['path'])\n",
    "\n",
    "sns.set(style=\"ticks\", font_scale=1.2)\n",
    "fig = plt.figure(dpi=300, figsize=(15/1.2, 15/1.2))\n",
    "\n",
    "# Add one step to represent the infinite time\n",
    "population_time1 = np.append(population_time, population_time[-1]*1.5)\n",
    "\n",
    "axs = []\n",
    "i = 1\n",
    "for key in scenarios.keys():\n",
    "    axs.append(fig.add_subplot(3, 2, i))\n",
    "    \n",
    "    population_size = np.append(np.array(scenarios[key]), scenarios[key][-1])\n",
    "    ax = sns.lineplot(x=population_time1, y=population_size, drawstyle='steps-post', color=(0,0,0))\n",
    "    ax.lines[0].set_linestyle(\"--\")\n",
    "    \n",
    "    population_time2 = np.append(np.array(population_time1), 0)\n",
    "    boxplot_widths = (population_time2[1:] - population_time2[:-1])/2\n",
    "    boxplot_widths[-1] = - boxplot_widths[-1]\n",
    "    boxplot_positions = population_time2[:-1] + boxplot_widths\n",
    "    dat = predictions.loc[predictions['scenario_name'] == key].iloc[:, range(21)]\n",
    "    dat.columns = population_time1[:-1]\n",
    "    dat = np.transpose(dat)\n",
    "    plt.boxplot([dat.loc[i] for i in dat.index], vert=True, positions=boxplot_positions[:-1],\n",
    "                widths=boxplot_widths[:-1], sym='k.')\n",
    "    \n",
    "    plt.ylabel('')\n",
    "    plt.xlabel('')\n",
    "    plt.ylim(80, 5e5)\n",
    "    plt.yscale('log')\n",
    "    plt.xscale('log')\n",
    "    plt.title(key)\n",
    "    i += 1\n",
    "    \n",
    "fig.text(0.5, 0.04, 'Generations before present (log scale)', ha='center')\n",
    "fig.text(0.04, 0.5, 'Effective population size (log scale)', va='center', rotation='vertical')\n",
    "[ax.get_xaxis().set_visible(False) for ax in axs[:4]]\n",
    "[ax.get_yaxis().set_visible(False) for ax in [axs[1], axs[3], axs[5]]]\n",
    "[ax.margins(x=0) for ax in axs]\n",
    "\n",
    "plt.show()"
   ]
  },
  {
   "cell_type": "code",
   "execution_count": null,
   "metadata": {},
   "outputs": [],
   "source": []
  }
 ],
 "metadata": {
  "kernelspec": {
   "display_name": "Python 3",
   "language": "python",
   "name": "python3"
  },
  "language_info": {
   "codemirror_mode": {
    "name": "ipython",
    "version": 3
   },
   "file_extension": ".py",
   "mimetype": "text/x-python",
   "name": "python",
   "nbconvert_exporter": "python",
   "pygments_lexer": "ipython3",
   "version": "3.7.6"
  }
 },
 "nbformat": 4,
 "nbformat_minor": 4
}
