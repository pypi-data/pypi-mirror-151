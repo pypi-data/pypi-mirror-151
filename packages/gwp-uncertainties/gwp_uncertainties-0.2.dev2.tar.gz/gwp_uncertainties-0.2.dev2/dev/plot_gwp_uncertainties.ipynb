{
 "cells": [
  {
   "cell_type": "code",
   "execution_count": null,
   "metadata": {},
   "outputs": [],
   "source": [
    "import numpy as np\n",
    "import pickle\n",
    "from pathlib import Path\n",
    "import bw2calc as bc\n",
    "import bw2data as bd\n",
    "from gwp_uncertainties import add_bw_method_with_gwp_uncertainties\n",
    "import plotly.graph_objects as go\n",
    "import stats_arrays as sa\n",
    "from plotly.subplots import make_subplots\n",
    "\n",
    "if __name__ == \"__main__\":\n",
    "\n",
    "    time_horizon = 100 # TODO choose\n",
    "\n",
    "    project = \"GSA for protocol\"\n",
    "    bd.projects.set_current(project)\n",
    "\n",
    "    add_bw_method_with_gwp_uncertainties(time_horizon, verbose=True)\n",
    "\n",
    "    co = bd.Database('CH consumption 1.0')\n",
    "    demand_act = co.search('food sector')[0]\n",
    "    demand = {demand_act: 1}\n",
    "    print(demand_act)\n",
    "    method = ('IPCC 2013', 'climate change', 'GWP {}a'.format(time_horizon))\n",
    "    uncertain_method = method + ('uncertain',)\n",
    "\n",
    "    lca = bc.LCA(demand, method)\n",
    "    lca.lci()\n",
    "    lca.lcia()\n",
    "    print(\"{} LCA score with standard IPCC method\".format(lca.score))\n",
    "    ulca = bc.LCA(demand, uncertain_method)\n",
    "    ulca.lci()\n",
    "    ulca.lcia()\n",
    "    print(\"{} LCA score with uncertain IPCC method\".format(ulca.score))\n",
    "\n",
    "    "
   ]
  },
  {
   "cell_type": "code",
   "execution_count": null,
   "metadata": {},
   "outputs": [],
   "source": [
    "iterations = 2000\n",
    "write_dir = Path(\"write_files\")\n",
    "path_lca_scores_certain = write_dir / \"lca_scores_certain_gwp_{}.pickle\".format(iterations)\n",
    "path_lca_scores_uncertain = write_dir / \"lca_scores_uncertain_gwp_{}.pickle\".format(iterations)"
   ]
  },
  {
   "cell_type": "code",
   "execution_count": null,
   "metadata": {},
   "outputs": [],
   "source": [
    "%%time\n",
    "\n",
    "if path_lca_scores_certain.exists():\n",
    "    with open(path_lca_scores_certain, 'rb') as f:\n",
    "        lca_scores_certain_gwp = pickle.load(f)\n",
    "else:\n",
    "    mc_certain_gwp = bc.ParallelMonteCarlo(demand, method, iterations)\n",
    "    lca_scores_certain_gwp = np.array(mc_certain_gwp.calculate())\n",
    "    with open(path_lca_scores_certain, 'wb') as f:\n",
    "        pickle.dump(lca_scores_certain_gwp, f)\n",
    "\n",
    "if path_lca_scores_uncertain.exists():\n",
    "    with open(path_lca_scores_uncertain, 'rb') as f:\n",
    "        lca_scores_uncertain_gwp = pickle.load(f)\n",
    "else:\n",
    "    mc_uncertain_gwp = bc.ParallelMonteCarlo(demand, uncertain_method, iterations)\n",
    "    lca_scores_uncertain_gwp = np.array(mc_uncertain_gwp.calculate())\n",
    "    with open(path_lca_scores_uncertain, 'wb') as f:\n",
    "        pickle.dump(lca_scores_uncertain_gwp, f)\n",
    "    \n",
    "print(\"LCA scores W/O  uncertainties in GWP -> std={}\".format(\n",
    "        np.std(lca_scores_certain_gwp))\n",
    "    )\n",
    "print(\"LCA scores WITH uncertainties in GWP -> std={}\".format(\n",
    "    np.std(lca_scores_uncertain_gwp))\n",
    ")\n"
   ]
  },
  {
   "cell_type": "markdown",
   "metadata": {},
   "source": [
    "# Plot LCA scores"
   ]
  },
  {
   "cell_type": "code",
   "execution_count": null,
   "metadata": {},
   "outputs": [],
   "source": [
    "num_bins = 60\n",
    "bin_min = min(np.hstack([lca_scores_certain_gwp, lca_scores_uncertain_gwp]))\n",
    "bin_max = max(np.hstack([lca_scores_certain_gwp, lca_scores_uncertain_gwp]))\n",
    "bins_ = np.linspace(bin_min, bin_max, num_bins, endpoint=True)\n",
    "freq_certain, bins_certain = np.histogram(lca_scores_certain_gwp, bins=bins_, density=True)\n",
    "freq_uncertain, bins_uncertain = np.histogram(lca_scores_uncertain_gwp, bins=bins_, density=True)\n",
    "    \n",
    "fig = go.Figure()\n",
    "fig.add_trace(\n",
    "    go.Bar(\n",
    "        x=bins_certain,\n",
    "        y=freq_certain,\n",
    "        name='GWP values W/O uncertainties',\n",
    "        opacity=0.7,\n",
    "    ),\n",
    ")\n",
    "fig.add_trace(\n",
    "    go.Bar(\n",
    "        x=bins_uncertain,\n",
    "        y=freq_uncertain,\n",
    "        name='GWP values WITH uncertainties',\n",
    "        opacity=0.7,\n",
    "    ),\n",
    ")\n",
    "fig.update_layout(barmode=\"overlay\")\n",
    "fig.update_yaxes(title_text='Frequency')\n",
    "fig.update_xaxes(title_text='LCA scores, [kg CO2-eq]')\n",
    "fig.show()\n",
    "fig.write_html(\"write_files/lca_scores_gwp_uncertainties.html\")"
   ]
  },
  {
   "cell_type": "markdown",
   "metadata": {},
   "source": [
    "# Plot GWP with uncertainties"
   ]
  },
  {
   "cell_type": "code",
   "execution_count": null,
   "metadata": {},
   "outputs": [],
   "source": [
    "bw_uncertain_method = bd.Method(uncertain_method)"
   ]
  },
  {
   "cell_type": "code",
   "execution_count": null,
   "metadata": {},
   "outputs": [],
   "source": [
    "all_flows = bw_uncertain_method.load()\n",
    "uncertain_flows = []\n",
    "inds = []\n",
    "for i,flow in enumerate(all_flows):\n",
    "    try:\n",
    "        flow[1].get('uncertainty type')\n",
    "        flow_name = bd.get_activity(flow[0])['name']\n",
    "        if flow_name not in uncertain_flows:\n",
    "            uncertain_flows.append(flow_name)\n",
    "            inds.append(i)\n",
    "    except:\n",
    "        pass\n",
    "# unique_uncertain_flows = set(uncertain_flows)\n",
    "flows_uncertain_list = [all_flows[i] for i in inds]"
   ]
  },
  {
   "cell_type": "code",
   "execution_count": null,
   "metadata": {},
   "outputs": [],
   "source": [
    "data = []\n",
    "flow_names = []\n",
    "iterations = 2000\n",
    "for flow in flows_uncertain_list:\n",
    "    if flow[1]['uncertainty type'] == sa.NormalUncertainty.id:\n",
    "        x = np.random.normal(flow[1]['loc'], flow[1]['scale'], iterations)\n",
    "    elif flow[1]['uncertainty type'] == sa.UniformUncertainty.id:\n",
    "        x = (flow[1]['maximum'] - flow[1]['minimum'])*np.random.rand(iterations) + flow[1]['minimum']\n",
    "    act = bd.get_activity(flow[0])\n",
    "    flow_name = \"{} {}\".format(act['name'], act['categories'])[:45]\n",
    "    data.append(\n",
    "        {\n",
    "            'name': flow_name,\n",
    "            'static': flow[1]['amount'],\n",
    "            'x': x\n",
    "        }\n",
    "    )\n",
    "    flow_names.append(flow_name)"
   ]
  },
  {
   "cell_type": "code",
   "execution_count": null,
   "metadata": {},
   "outputs": [],
   "source": [
    "n_plots = len(flows_uncertain_list)\n",
    "ncols = 4\n",
    "nrows = int(np.ceil(n_plots/ncols))\n",
    "fig = make_subplots(\n",
    "    rows=nrows,\n",
    "    cols=ncols,\n",
    "    shared_yaxes=True,\n",
    "    subplot_titles=flow_names,\n",
    ")\n",
    "i = 0\n",
    "for row in range(nrows):\n",
    "    for col in range(ncols):\n",
    "        if i < n_plots:\n",
    "            values = data[i]['x']\n",
    "            freq, bins = np.histogram(values, bins=num_bins)\n",
    "            fig.add_trace(\n",
    "                go.Bar(\n",
    "                    x=bins,\n",
    "                    y=freq,\n",
    "                    showlegend=False,\n",
    "                    marker_color = 'blue',\n",
    "                    opacity=0.7,\n",
    "                ),\n",
    "                row=row+1,\n",
    "                col=col+1,\n",
    "            )\n",
    "            fig.add_trace(\n",
    "                go.Scatter(\n",
    "                    x=[data[i]['static']],\n",
    "                    y=[0],\n",
    "                    showlegend=False,\n",
    "                    marker_color = 'red',\n",
    "                    mode=\"markers\",\n",
    "                    marker_symbol = 'x',\n",
    "                    marker_size=15,\n",
    "                    opacity=0.7,\n",
    "                ),\n",
    "                row=row+1,\n",
    "                col=col+1,\n",
    "            )\n",
    "            i += 1 \n",
    "fig.update_yaxes(title_text=\"Frequency\", col=1)\n",
    "fig.update_xaxes(title_text=\"GWP\", row=nrows)\n",
    "fig.update_layout(\n",
    "    width=400*ncols, height=300*nrows,\n",
    ")\n",
    "fig.show()\n",
    "fig.write_html(\"write_files/gwp_uncertainties.html\")"
   ]
  },
  {
   "cell_type": "code",
   "execution_count": null,
   "metadata": {},
   "outputs": [],
   "source": [
    "fig.write_image(\"write_files/gwp_uncertainties.svg\")"
   ]
  },
  {
   "cell_type": "code",
   "execution_count": null,
   "metadata": {},
   "outputs": [],
   "source": []
  },
  {
   "cell_type": "code",
   "execution_count": null,
   "metadata": {},
   "outputs": [],
   "source": []
  }
 ],
 "metadata": {
  "kernelspec": {
   "display_name": "Python 3",
   "language": "python",
   "name": "python3"
  },
  "language_info": {
   "codemirror_mode": {
    "name": "ipython",
    "version": 3
   },
   "file_extension": ".py",
   "mimetype": "text/x-python",
   "name": "python",
   "nbconvert_exporter": "python",
   "pygments_lexer": "ipython3",
   "version": "3.8.10"
  },
  "varInspector": {
   "cols": {
    "lenName": 16,
    "lenType": 16,
    "lenVar": 40
   },
   "kernels_config": {
    "python": {
     "delete_cmd_postfix": "",
     "delete_cmd_prefix": "del ",
     "library": "var_list.py",
     "varRefreshCmd": "print(var_dic_list())"
    },
    "r": {
     "delete_cmd_postfix": ") ",
     "delete_cmd_prefix": "rm(",
     "library": "var_list.r",
     "varRefreshCmd": "cat(var_dic_list()) "
    }
   },
   "types_to_exclude": [
    "module",
    "function",
    "builtin_function_or_method",
    "instance",
    "_Feature"
   ],
   "window_display": false
  }
 },
 "nbformat": 4,
 "nbformat_minor": 5
}
