{
 "cells": [
  {
   "cell_type": "code",
   "execution_count": 1,
   "id": "31548254-7c7a-4119-982e-ea78242310c6",
   "metadata": {},
   "outputs": [],
   "source": [
    "import matplotlib.pyplot as plt\n",
    "import numpy as np\n",
    "from numpy import sin, linspace, pi\n",
    "from opensees import uniaxial\n",
    "from opensees.units.english import ksi, psi, inch, ft\n",
    "\n",
    "plt.style.use(\"berkeley\")"
   ]
  },
  {
   "cell_type": "code",
   "execution_count": null,
   "id": "739de99f-ee5f-4885-81c7-d9e42397f573",
   "metadata": {},
   "outputs": [],
   "source": [
    "with uniaxial.Hysteretic"
   ]
  }
 ],
 "metadata": {
  "kernelspec": {
   "display_name": "Python (elle)",
   "language": "python",
   "name": "elle"
  },
  "language_info": {
   "codemirror_mode": {
    "name": "ipython",
    "version": 3
   },
   "file_extension": ".py",
   "mimetype": "text/x-python",
   "name": "python",
   "nbconvert_exporter": "python",
   "pygments_lexer": "ipython3",
   "version": "3.8.12"
  }
 },
 "nbformat": 4,
 "nbformat_minor": 5
}
