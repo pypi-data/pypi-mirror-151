{
 "cells": [
  {
   "cell_type": "markdown",
   "metadata": {},
   "source": [
    "# Equivalent barotropic quasigeostrophic model"
   ]
  },
  {
   "cell_type": "markdown",
   "metadata": {},
   "source": [
    "The equivalent barotropic quasigeostrophy evolution equations is"
   ]
  },
  {
   "cell_type": "markdown",
   "metadata": {},
   "source": [
    "$$\n",
    "\\partial_t\\,{q} + \\mathsf{J}\\left(\\psi\\,, q\\right) + \\beta\\, {\\psi}_x = \\text{ssd} \\,.\n",
    "$$"
   ]
  },
  {
   "cell_type": "markdown",
   "metadata": {},
   "source": [
    "The potential vorticity anomaly is\n",
    "\n",
    "$$\n",
    "{q} = \\nabla^2\\psi - \\kappa_d^2 \\psi\\,,\n",
    "$$\n",
    "\n",
    "where $\\kappa_d^2$ is the deformation wavenumber. With $\\kappa_d = \\beta = 0$ we recover the 2D vorticity equation."
   ]
  },
  {
   "cell_type": "markdown",
   "metadata": {},
   "source": [
    "The inversion relationship in Fourier space is\n",
    "\n",
    "$$\n",
    "\\hat{q} = -\\left(\\kappa + \\kappa_d^2\\right) \\hat{\\psi}\\,.\n",
    "$$"
   ]
  },
  {
   "cell_type": "markdown",
   "metadata": {},
   "source": [
    "The system is marched forward in time similarly to the two-layer model."
   ]
  }
 ],
 "metadata": {
  "kernelspec": {
   "display_name": "Python 2",
   "language": "python",
   "name": "python2"
  },
  "language_info": {
   "codemirror_mode": {
    "name": "ipython",
    "version": 2
   },
   "file_extension": ".py",
   "mimetype": "text/x-python",
   "name": "python",
   "nbconvert_exporter": "python",
   "pygments_lexer": "ipython2",
   "version": "2.7.10"
  }
 },
 "nbformat": 4,
 "nbformat_minor": 0
}
