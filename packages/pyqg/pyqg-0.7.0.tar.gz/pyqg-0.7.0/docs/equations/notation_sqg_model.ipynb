{
 "cells": [
  {
   "cell_type": "markdown",
   "metadata": {},
   "source": [
    "# Surface Quasi-geostrophic Model"
   ]
  },
  {
   "cell_type": "markdown",
   "metadata": {},
   "source": [
    "Surface quasi-geostrophy (SQG) is a relatively simple model that describes surface intensified flows due to buoyancy. One of it's advantages is that it only has two spatial dimensions but describes a three-dimensional solution."
   ]
  },
  {
   "cell_type": "markdown",
   "metadata": {},
   "source": [
    "The evolution equation is\n",
    "\n",
    "$$\n",
    "\\partial_t b + J(\\psi, b) = 0\\,,  \\qquad \\text{at} \\qquad z = 0\\,,\n",
    "$$\n",
    "\n",
    "where $b = \\psi_z$ is the buoyancy.\n",
    "\n",
    "The interior potential vorticity is zero. Hence\n",
    "$$\n",
    "\\frac{\\partial }{\\partial z}\\left(\\frac{f_0^2}{N^2}\\frac{\\partial \\psi}{\\partial z}\\right) + \\nabla^2\\psi = 0\\,,\n",
    "$$\n",
    "\n",
    "where $N$ is the buoyancy frequency and $f_0$ is the Coriolis parameter. In the SQG model both $N$ and $f_0$ are constants. The boundary conditions for this elliptic problem in a semi-infinite vertical domain are\n",
    "\n",
    "$$\n",
    "b = \\psi_z\\,,  \\qquad \\text{and} \\qquad z = 0\\,,\n",
    "$$\n",
    "\n",
    "and \n",
    "\n",
    "$$\n",
    "\\psi = 0,  \\qquad \\text{at} \\qquad z \\rightarrow -\\infty\\,,\n",
    "$$"
   ]
  },
  {
   "cell_type": "markdown",
   "metadata": {},
   "source": [
    "The solutions to the elliptic problem above, in horizontal Fourier space, gives the inversion relationship between surface buoyancy and surface streamfunction"
   ]
  },
  {
   "cell_type": "markdown",
   "metadata": {},
   "source": [
    "$$\n",
    "\\hat \\psi = \\frac{f_0}{N} \\frac{1}{\\kappa}\\hat b\\,,  \\qquad \\text{at} \\qquad z = 0\\,,\n",
    "$$"
   ]
  },
  {
   "cell_type": "markdown",
   "metadata": {},
   "source": [
    "The SQG evolution equation is marched forward similarly to the two-layer model."
   ]
  }
 ],
 "metadata": {
  "kernelspec": {
   "display_name": "Python 2",
   "language": "python",
   "name": "python2"
  },
  "language_info": {
   "codemirror_mode": {
    "name": "ipython",
    "version": 2
   },
   "file_extension": ".py",
   "mimetype": "text/x-python",
   "name": "python",
   "nbconvert_exporter": "python",
   "pygments_lexer": "ipython2",
   "version": "2.7.10"
  }
 },
 "nbformat": 4,
 "nbformat_minor": 0
}
