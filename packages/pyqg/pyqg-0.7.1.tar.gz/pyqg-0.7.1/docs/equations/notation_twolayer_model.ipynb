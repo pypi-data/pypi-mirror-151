{
 "cells": [
  {
   "cell_type": "markdown",
   "metadata": {},
   "source": [
    "# The two-layer quasigeostrophic model"
   ]
  },
  {
   "cell_type": "markdown",
   "metadata": {},
   "source": [
    "The two-layer quasigeostrophic evolution equations are (1)"
   ]
  },
  {
   "cell_type": "markdown",
   "metadata": {},
   "source": [
    "$$\n",
    "\\partial_t\\,{q_1} + \\mathsf{J}\\left(\\psi_1\\,, q_1\\right) + \\beta\\, {\\psi_1}_x = \\text{ssd} \\,,\n",
    "$$\n",
    "\n",
    "and (2)\n",
    "$$\n",
    "\\partial_t\\,{q_2} + \\mathsf{J}\\left(\\psi_2\\,, q_2\\right)+ \\beta\\, {\\psi_2}_x = -r_{ek}\\nabla^2 \\psi_2 + \\text{ssd}\\,,\n",
    "$$\n",
    "\n",
    "where the horizontal Jacobian is $\\mathsf{J}\\left(A\\,, B\\right) = A_x B_y - A_y B_x$. Also in (1) and (2) ssd denotes small-scale dissipation (in turbulence regimes, ssd absorbs enstrophy that cascates towards small scales). The linear bottom drag in (2) dissipates energy at all scales uniformly."
   ]
  },
  {
   "cell_type": "markdown",
   "metadata": {},
   "source": [
    "The potential vorticities are (3)\n",
    "\n",
    "$$\n",
    "{q_1} = \\nabla^2\\psi_1 + F_1\\left(\\psi_2 - \\psi_1\\right)\\,,\n",
    "$$\n",
    "\n",
    "and (4)\n",
    "\n",
    "$$\n",
    "{q_2} = \\nabla^2\\psi_2 + F_2\\left(\\psi_1 - \\psi_2\\right)\\,,\n",
    "$$"
   ]
  },
  {
   "cell_type": "markdown",
   "metadata": {},
   "source": [
    "where\n",
    "\n",
    "$$\n",
    "F_1 \\equiv \\frac{k_d^2}{1 + \\delta^2}\\,, \\qquad \\text{and} \\qquad F_2 \\equiv \\delta \\,F_1\\,,\n",
    "$$\n",
    "\n",
    "with the deformation wavenumber\n",
    "\n",
    "$$\n",
    "k_d^2 \\equiv\\frac{f_0^2}{g}\\frac{H_1+H_2}{H_1 H_2}\\,,\n",
    "$$\n",
    "\n",
    "where $H = H_1 + H_2$ is the total depth at rest."
   ]
  },
  {
   "cell_type": "markdown",
   "metadata": {},
   "source": [
    "## Forced-dissipative equations"
   ]
  },
  {
   "cell_type": "markdown",
   "metadata": {},
   "source": [
    "We are interested in flows driven by baroclinic instabilty where the base-state has a shear of $U_1-U_2$. In this case the evolution equations (1) and (2) become (5)\n",
    "\n",
    "$$\n",
    "\\partial_t\\,{q_1} + \\mathsf{J}\\left(\\psi_1\\,, q_1\\right) + \\beta_1\\, {\\psi_1}_x = \\text{ssd} \\,,\n",
    "$$\n",
    "\n",
    "and (6)\n",
    "$$\n",
    "\\partial_t\\,{q_2} + \\mathsf{J}\\left(\\psi_2\\,, q_2\\right)+ \\beta_2\\, {\\psi_2}_x = -r_{ek}\\nabla^2 \\psi_2 + \\text{ssd}\\,,\n",
    "$$\n",
    "\n",
    "where the mean potential vorticity gradients are (9,10)\n",
    "\n",
    "$$\n",
    "\\beta_1 = \\beta + F_1\\,\\left(U_1 - U_2\\right)\\,, \\qquad \\text{and} \\qquad \\beta_2 = \\beta - F_2\\,\\left( U_1 - U_2\\right)\\,.\n",
    "$$\n"
   ]
  },
  {
   "cell_type": "markdown",
   "metadata": {
    "collapsed": true
   },
   "source": [
    "## Equations in Fourier space"
   ]
  },
  {
   "cell_type": "markdown",
   "metadata": {
    "collapsed": true
   },
   "source": [
    "We solve the two-layer QG system using a pseudo-spectral doubly-peridioc model. Fourier transforming the evolution equations (5) and (6) gives (7)\n",
    "\n",
    "$$\n",
    "\\partial_t\\,{\\hat{q}_1} = - \\hat{\\mathsf{J}}\\left(\\psi_1\\,, q_1\\right) - \\text{i}\\,k\\, \\beta_1\\, {\\hat{\\psi}_1} + \\hat{\\text{ssd}} \\,,\n",
    "$$\n",
    "\n",
    "and\n",
    "$$\n",
    "\\partial_t\\,{\\hat{q}_2} = \\hat{\\mathsf{J}}\\left(\\psi_2\\,, q_2\\right)- \\beta_2\\, \\text{i}\\,k\\, {\\hat{\\psi}_2}  + r_{ek}\\,\\kappa^2\\,\\, \\hat{\\psi}_2 + \\hat{\\text{ssd}}\\,,\n",
    "$$\n",
    "\n",
    "where, in the pseudo-spectral spirit, $\\hat{\\mathsf{J}}$ means the Fourier transform of the Jacobian i.e., we compute the products in physical space, and then transform to Fourier space."
   ]
  },
  {
   "cell_type": "markdown",
   "metadata": {},
   "source": [
    "In Fourier space the \"inversion relation\" (3)-(4) is\n",
    "\n",
    "$$\n",
    "\\underbrace{\\begin{bmatrix}\n",
    "-(\\kappa^2 + F_1) \\qquad \\:\\:\\:\\:F_1\\\\\n",
    "\\:\\:\\:\\:\\:\\:\\:\\:\\:\\:\\:\\:\\:\\:\\:\\:\\:F_2 \\qquad - (\\kappa^2 + F_2)\n",
    "\\end{bmatrix}}_{\\equiv \\,\\mathsf{M_2}}\n",
    "\\begin{bmatrix}\n",
    "\\hat{\\psi}_1\\\\\n",
    "\\hat{\\psi}_2\\\\\n",
    "\\end{bmatrix}\n",
    "=\\begin{bmatrix}\n",
    "\\hat{q}_1\\\\\n",
    "\\hat{q}_2\\\\\n",
    "\\end{bmatrix}\n",
    "\\,,\n",
    "$$\n",
    "\n",
    "or equivalently\n",
    "\n",
    "$$\n",
    "\\begin{bmatrix}\n",
    "\\hat{\\psi}_1\\\\\n",
    "\\hat{\\psi}_2\\\\\n",
    "\\end{bmatrix}\n",
    "=\\underbrace{\\frac{1}{\\text{det}\\,\\mathrm{M_2}}\n",
    "\\begin{bmatrix}\n",
    "-(\\kappa^2 + F_2) \\qquad \\:\\:\\:\\:-F_1\\\\\n",
    "\\:\\:\\:\\:\\:\\:\\:\\:\\:\\:\\:\\:\\:\\:\\:\\:\\:-F_2 \\qquad - (\\kappa^2 + F_1)\n",
    "\\end{bmatrix}}_{=\\,\\mathsf{M_2}^{-1}}\n",
    "\\begin{bmatrix}\n",
    "\\hat{q}_1\\\\\n",
    "\\hat{q}_2\\\\\n",
    "\\end{bmatrix}\n",
    "\\,,\\qquad\n",
    "$$\n",
    "\n",
    "where\n",
    "\n",
    "$$\n",
    "\\qquad \\text{det}\\,\\mathsf{M}_2 = \\kappa^2\\left(\\kappa^2 + F_1 + F_2\\right)\\,.\n",
    "$$"
   ]
  },
  {
   "cell_type": "markdown",
   "metadata": {},
   "source": [
    "### Marching forward"
   ]
  },
  {
   "cell_type": "markdown",
   "metadata": {},
   "source": [
    "We use a third-order Adams-Bashford scheme \n",
    "\n",
    "$$\n",
    "{\\hat{q}_i}^{n+1} = E_f\\times\\left[{\\hat{q}_i}^{n} + \\frac{\\Delta t}{2}\\left(23\\, \\hat{Q}_i^{n} -  16\\hat{Q}_i^{n-1} + 5 \\hat{Q}_i^{n-2}\\right)\\right]\\,,\n",
    "$$\n",
    "\n",
    "where\n",
    "\n",
    "$$\n",
    "\\hat{Q}_i^n \\equiv - \\hat{\\mathsf{J}}\\left(\\psi_i^n\\,, q_i^n\\right) - \\text{i}\\,k\\, \\beta_i\\, {\\hat{\\psi}_i^n}, \\qquad i = 1,2\\,.\n",
    "$$\n",
    "\n",
    "The AB3 is initialized with a first-order AB (or forward Euler)\n",
    "\n",
    "$$\n",
    "{\\hat{q}_i}^{1} = E_f\\times\\left[{\\hat{q}_i}^{0} + \\Delta t \\hat{Q}_i^{0}\\right]\\,,\n",
    "$$\n",
    "\n",
    "The second step uses a second-order AB scheme\n",
    "\n",
    "$$\n",
    "{\\hat{q}_i}^{2} = E_f\\times\\left[{\\hat{q}_i}^{1} + \\frac{\\Delta t}{2}\\left(3\\, \\hat{Q}_i^{1} -  \\hat{Q}_i^0\\right)\\right]\\,.\n",
    "$$"
   ]
  },
  {
   "cell_type": "markdown",
   "metadata": {},
   "source": [
    "The small-scale dissipation is achieve by a highly-selective exponential filter\n",
    "\n",
    "$$\n",
    "E_f =\\begin{cases} \\text{e}^{-23.6\\,\\left(\\kappa^{\\star} - \\kappa_c\\right)^4}: &\\qquad \\kappa \\ge\\kappa_c\\\\\n",
    "\\,\\,\\,\\,\\,\\,\\,\\,\\,\\,\\,1:&\\qquad \\text{otherwise}\\,.\n",
    "\\end{cases}\n",
    "$$\n",
    "\n",
    "where the non-dimensional wavenumber is\n",
    "\n",
    "$$\n",
    "\\kappa^{\\star} \\equiv \\sqrt{ (k\\,\\Delta x)^2 + (l\\,\\Delta y)^2 }\\, ,\n",
    "$$\n",
    "\n",
    "and $\\kappa_c$ is a (non-dimensional) wavenumber cutoff here taken as $65\\%$ of the Nyquist scale $\\kappa^{\\star}_{ny} = \\pi$. The parameter $-23.6$ is obtained from the requirement that the energy at the largest wanumber ($\\kappa^{\\star} = \\pi$) be zero whithin machine double precision:\n",
    "\n",
    "$$\n",
    "\\frac{\\log 10^{-15}}{(0.35\\, \\pi)^4} \\approx -23.5\\,.\n",
    "$$\n",
    "\n",
    "For experiments with $|\\hat{q_i}|<<\\mathcal{O}(1)$ one can use a smaller constant."
   ]
  },
  {
   "cell_type": "markdown",
   "metadata": {
    "collapsed": true
   },
   "source": [
    "### Diagnostics"
   ]
  },
  {
   "cell_type": "markdown",
   "metadata": {
    "collapsed": true
   },
   "source": [
    "The kinetic energy is\n",
    "\n",
    "$$\n",
    "E = \\tfrac{1}{H\\,S} \\int  \\tfrac{1}{2} H_1 \\, |\\nabla \\psi_1|^2 +  \\tfrac{1}{2} H_2 \\, |\\nabla \\psi_2|^2 \\, d S\\,.\n",
    "$$\n",
    "\n",
    "The potential enstrophy is\n",
    "\n",
    "$$\n",
    "Z = \\tfrac{1}{H\\,S}\\int \\tfrac{1}{2}H_1 \\, q_1^2 + \\tfrac{1}{2} H_2 \\, q_2^2 \\, d S\\,.\n",
    "$$\n",
    "\n",
    "We can use the enstrophy to estimate the eddy  turn-over timescale\n",
    "\n",
    "$$\n",
    "T_e \\equiv \\frac{2\\,\\pi}{\\sqrt{Z}}\\,.\n",
    "$$"
   ]
  },
  {
   "cell_type": "code",
   "execution_count": null,
   "metadata": {
    "collapsed": true
   },
   "outputs": [],
   "source": []
  }
 ],
 "metadata": {
  "kernelspec": {
   "display_name": "Python 2",
   "language": "python",
   "name": "python2"
  },
  "language_info": {
   "codemirror_mode": {
    "name": "ipython",
    "version": 2
   },
   "file_extension": ".py",
   "mimetype": "text/x-python",
   "name": "python",
   "nbconvert_exporter": "python",
   "pygments_lexer": "ipython2",
   "version": "2.7.10"
  }
 },
 "nbformat": 4,
 "nbformat_minor": 0
}
