{
 "cells": [
  {
   "cell_type": "code",
   "execution_count": 1,
   "id": "776a7bdb-7f7b-46bf-b3b0-b90235641507",
   "metadata": {},
   "outputs": [],
   "source": [
    "import pyqg\n",
    "import numpy as np\n",
    "import matplotlib.pyplot as plt"
   ]
  },
  {
   "cell_type": "markdown",
   "id": "168562fd-2474-4773-a585-e5e20c20a078",
   "metadata": {},
   "source": [
    "# Run four models -- [2,3] layers x [64, 96] resolution"
   ]
  },
  {
   "cell_type": "code",
   "execution_count": 2,
   "id": "e373d1d6-63b6-46d2-99e3-0d1fb4567e21",
   "metadata": {},
   "outputs": [
    {
     "name": "stderr",
     "output_type": "stream",
     "text": [
      "INFO:  Logger initialized\n",
      "INFO: Step: 10000, Time: 3.60e+07, KE: 6.24e-03, CFL: 0.236\n",
      "INFO: Step: 20000, Time: 7.20e+07, KE: 1.46e-02, CFL: 0.275\n",
      "INFO: Step: 30000, Time: 1.08e+08, KE: 1.62e-02, CFL: 0.317\n",
      "INFO: Step: 40000, Time: 1.44e+08, KE: 1.73e-02, CFL: 0.316\n",
      "INFO: Step: 50000, Time: 1.80e+08, KE: 1.90e-02, CFL: 0.311\n",
      "INFO: Step: 60000, Time: 2.16e+08, KE: 1.38e-02, CFL: 0.323\n",
      "INFO: Step: 70000, Time: 2.52e+08, KE: 1.81e-02, CFL: 0.351\n",
      "INFO: Step: 80000, Time: 2.88e+08, KE: 1.78e-02, CFL: 0.344\n",
      "INFO:  Logger initialized\n",
      "INFO: Step: 10000, Time: 3.60e+07, KE: 6.41e-03, CFL: 0.135\n",
      "INFO: Step: 20000, Time: 7.20e+07, KE: 1.23e-02, CFL: 0.170\n",
      "INFO: Step: 30000, Time: 1.08e+08, KE: 1.24e-02, CFL: 0.164\n",
      "INFO: Step: 40000, Time: 1.44e+08, KE: 1.45e-02, CFL: 0.213\n",
      "INFO: Step: 50000, Time: 1.80e+08, KE: 1.50e-02, CFL: 0.176\n",
      "INFO: Step: 60000, Time: 2.16e+08, KE: 1.28e-02, CFL: 0.160\n",
      "INFO: Step: 70000, Time: 2.52e+08, KE: 1.51e-02, CFL: 0.192\n",
      "INFO: Step: 80000, Time: 2.88e+08, KE: 1.36e-02, CFL: 0.208\n",
      "INFO:  Logger initialized\n",
      "INFO: Step: 10000, Time: 3.60e+07, KE: 7.91e-06, CFL: 0.009\n",
      "INFO: Step: 20000, Time: 7.20e+07, KE: 6.49e-04, CFL: 0.083\n",
      "INFO: Step: 30000, Time: 1.08e+08, KE: 5.35e-04, CFL: 0.074\n",
      "INFO: Step: 40000, Time: 1.44e+08, KE: 5.54e-04, CFL: 0.071\n",
      "INFO: Step: 50000, Time: 1.80e+08, KE: 5.53e-04, CFL: 0.082\n",
      "INFO: Step: 60000, Time: 2.16e+08, KE: 5.60e-04, CFL: 0.081\n",
      "INFO: Step: 70000, Time: 2.52e+08, KE: 5.53e-04, CFL: 0.078\n",
      "INFO: Step: 80000, Time: 2.88e+08, KE: 5.37e-04, CFL: 0.076\n",
      "INFO:  Logger initialized\n",
      "INFO: Step: 10000, Time: 3.60e+07, KE: 1.29e-05, CFL: 0.007\n",
      "INFO: Step: 20000, Time: 7.20e+07, KE: 4.62e-04, CFL: 0.054\n",
      "INFO: Step: 30000, Time: 1.08e+08, KE: 4.75e-04, CFL: 0.046\n",
      "INFO: Step: 40000, Time: 1.44e+08, KE: 4.45e-04, CFL: 0.042\n",
      "INFO: Step: 50000, Time: 1.80e+08, KE: 4.69e-04, CFL: 0.047\n",
      "INFO: Step: 60000, Time: 2.16e+08, KE: 4.76e-04, CFL: 0.060\n",
      "INFO: Step: 70000, Time: 2.52e+08, KE: 4.81e-04, CFL: 0.045\n",
      "INFO: Step: 80000, Time: 2.88e+08, KE: 4.72e-04, CFL: 0.045\n"
     ]
    }
   ],
   "source": [
    "year = 24*60*60*360.\n",
    "\n",
    "models = [[],[]]\n",
    "\n",
    "for i, model_class in enumerate([pyqg.LayeredModel, pyqg.QGModel]):\n",
    "    for nx in [96,64]:\n",
    "        model = model_class(nx=nx, tmax=10*year, twrite=10000, tavestart=5*year, dt=3600)\n",
    "        model.run()\n",
    "        models[i].append(model)"
   ]
  },
  {
   "cell_type": "markdown",
   "id": "76d4d213-ff55-452d-a1c5-8558c331ac8b",
   "metadata": {},
   "source": [
    "# Check diagnostics for proper behavior / normalization\n",
    "\n",
    "For all diagnostics, the lower-resolution model should have smaller extremes. However, lower-resolution model diagnostics should still have the same order of magnitude."
   ]
  },
  {
   "cell_type": "code",
   "execution_count": 30,
   "id": "b4d6aeea-853e-470e-acd9-c734677d68e0",
   "metadata": {},
   "outputs": [
    {
     "name": "stdout",
     "output_type": "stream",
     "text": [
      "LayeredModel\n",
      "   Ensspec ratio = 1.09\n",
      "   KEspec ratio = 1.18\n",
      "   EKEdiss ratio = 1.29\n",
      "   KEfrictionspec ratio = 1.25\n",
      "   EKE ratio = 1.24\n",
      "   Dissspec ratio = 1.24\n",
      "   ENSDissspec ratio = 2.44\n",
      "   entspec ratio = 1.35\n",
      "   KEspec_modal ratio = 1.17\n",
      "   PEspec_modal ratio = 1.16\n",
      "   APEspec ratio = 1.14\n",
      "   KEflux_div ratio = 1.23\n",
      "   APEflux_div ratio = 1.15\n",
      "   APEgenspec ratio = 1.16\n",
      "   ENSflux ratio = 1.15\n",
      "   ENSgenspec ratio = 1.15\n",
      "   ENSfrictionspec ratio = 1.06\n",
      "QGModel\n",
      "   Ensspec ratio = 1.18\n",
      "   KEspec ratio = 1.20\n",
      "   EKEdiss ratio = 1.36\n",
      "   KEfrictionspec ratio = 1.35\n",
      "   EKE ratio = 1.21\n",
      "   Dissspec ratio = 1.13\n",
      "   ENSDissspec ratio = 2.39\n",
      "   entspec ratio = 0.90\n",
      "   APEflux ratio = 1.50\n",
      "   KEflux ratio = 1.36\n",
      "   APEgenspec ratio = 1.29\n",
      "   APEgen ratio = 1.22\n"
     ]
    }
   ],
   "source": [
    "for models_by_res in models:\n",
    "    print(models_by_res[0].__class__.__name__)\n",
    "    diagnostics = models_by_res[0].diagnostics.keys()\n",
    "    for diagnostic in diagnostics:\n",
    "        vals = []\n",
    "        for m in models_by_res:\n",
    "            max_val = np.abs(m.get_diagnostic(diagnostic)).max()\n",
    "            vals.append(max_val)\n",
    "        max_hi, max_lo = vals \n",
    "        if max_lo == 0:\n",
    "            assert max_hi == 0\n",
    "        else:\n",
    "            print(f\"   {diagnostic} ratio = {max_hi/max_lo:.2f}\")\n",
    "            assert max_hi/max_lo < 2.5\n",
    "            assert max_hi/max_lo > 0.9"
   ]
  },
  {
   "cell_type": "markdown",
   "id": "3a82b8c1-e55c-47fe-87d9-022bd4c715a5",
   "metadata": {},
   "source": [
    "The same should roughly hold true for instantaneous diagnostics, though with a bit more randomness:"
   ]
  },
  {
   "cell_type": "code",
   "execution_count": 35,
   "id": "1e64db74-c73b-4115-ae91-1a705c530fdd",
   "metadata": {},
   "outputs": [
    {
     "name": "stdout",
     "output_type": "stream",
     "text": [
      "LayeredModel\n",
      "   Ensspec ratio = 1.43\n",
      "   KEspec ratio = 1.10\n",
      "   EKEdiss ratio = 1.63\n",
      "   KEfrictionspec ratio = 1.31\n",
      "   EKE ratio = 1.40\n",
      "   Dissspec ratio = 0.97\n",
      "   ENSDissspec ratio = 2.01\n",
      "   entspec ratio = 0.99\n",
      "   KEspec_modal ratio = 1.18\n",
      "   PEspec_modal ratio = 2.03\n",
      "   APEspec ratio = 1.88\n",
      "   KEflux_div ratio = 1.86\n",
      "   APEflux_div ratio = 0.90\n",
      "   APEgenspec ratio = 1.11\n",
      "   ENSflux ratio = 1.83\n",
      "   ENSgenspec ratio = 1.12\n",
      "   ENSfrictionspec ratio = 1.27\n",
      "QGModel\n",
      "   Ensspec ratio = 1.39\n",
      "   KEspec ratio = 1.11\n",
      "   EKEdiss ratio = 1.49\n",
      "   KEfrictionspec ratio = 1.39\n",
      "   EKE ratio = 1.18\n",
      "   Dissspec ratio = 1.35\n",
      "   ENSDissspec ratio = 2.94\n",
      "   entspec ratio = 0.94\n",
      "   APEflux ratio = 1.87\n",
      "   KEflux ratio = 1.58\n",
      "   APEgenspec ratio = 1.51\n",
      "   APEgen ratio = 1.33\n"
     ]
    }
   ],
   "source": [
    "for models_by_res in models:\n",
    "    print(models_by_res[0].__class__.__name__)\n",
    "    diagnostics = models_by_res[0].diagnostics.keys()\n",
    "    for diagnostic in diagnostics:\n",
    "        vals = []\n",
    "        for m in models_by_res:\n",
    "            max_val = np.abs(m.diagnostics[diagnostic]['function'](m)).max()\n",
    "            vals.append(max_val)\n",
    "        max_hi, max_lo = vals \n",
    "        if max_lo == 0:\n",
    "            assert max_hi == 0\n",
    "        else:\n",
    "            print(f\"   {diagnostic} ratio = {max_hi/max_lo:.2f}\")\n",
    "            assert max_hi/max_lo < 3\n",
    "            assert max_hi/max_lo > 0.8"
   ]
  }
 ],
 "metadata": {
  "kernelspec": {
   "display_name": "Python 3 (ipykernel)",
   "language": "python",
   "name": "python3"
  },
  "language_info": {
   "codemirror_mode": {
    "name": "ipython",
    "version": 3
   },
   "file_extension": ".py",
   "mimetype": "text/x-python",
   "name": "python",
   "nbconvert_exporter": "python",
   "pygments_lexer": "ipython3",
   "version": "3.9.5"
  }
 },
 "nbformat": 4,
 "nbformat_minor": 5
}
