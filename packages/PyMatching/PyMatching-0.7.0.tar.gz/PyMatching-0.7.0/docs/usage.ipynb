{
 "cells": [
  {
   "cell_type": "markdown",
   "metadata": {},
   "source": [
    "# Usage\n",
    "\n",
    "## Getting Started"
   ]
  },
  {
   "cell_type": "markdown",
   "metadata": {},
   "source": [
    "Most of the functionality of PyMatching is available through the `pymatching.matching.Matching` class, which can be imported in Python with:"
   ]
  },
  {
   "cell_type": "code",
   "execution_count": 1,
   "metadata": {},
   "outputs": [],
   "source": [
    "from pymatching import Matching"
   ]
  },
  {
   "cell_type": "markdown",
   "metadata": {},
   "source": [
    "The `Matching` class is used to represent the $X$-type or $Z$-type matching graph of a CSS quantum code for which syndrome defects come in pairs (or in isolation at a boundary). Each edge in the matching graph corresponds to a single error, and each node corresponds to a stabiliser measurement (or a boundary). The simplest way to construct a `Matching` object is from the X or Z check matrix of the code, which can be given as a numpy or a scipy array. For example, we can construct the $Z$-type matching graph for a five-qubit quantum bit-flip repetition code (which has $Z$ stabilisers $ZZIII$, $IZZII$, $IIZZI$ and $IIIZZ$) from the $Z$ check matrix using:"
   ]
  },
  {
   "cell_type": "code",
   "execution_count": 2,
   "metadata": {},
   "outputs": [
    {
     "data": {
      "text/plain": [
       "<pymatching.Matching object with 4 detectors, 1 boundary node, and 5 edges>"
      ]
     },
     "execution_count": 2,
     "metadata": {},
     "output_type": "execute_result"
    }
   ],
   "source": [
    "import numpy as np\n",
    "\n",
    "\"\"\"\n",
    "Each column of Hz corresponds to an X error on a qubit, and each \n",
    "row corresponds to a Z stabiliser.\n",
    "\n",
    "Hz[i,j]==1 if Z stabiliser i acts non-trivially\n",
    "on qubit j, and is 0 otherwise.\n",
    "\"\"\"\n",
    "Hz = np.array([\n",
    "    [1,1,0,0,0],\n",
    "    [0,1,1,0,0],\n",
    "    [0,0,1,1,0],\n",
    "    [0,0,0,1,1]\n",
    "])\n",
    "\n",
    "m = Matching(Hz)\n",
    "m"
   ]
  },
  {
   "cell_type": "markdown",
   "metadata": {},
   "source": [
    "Note that, since two qubits (0 and 4) are incident to only a single stabiliser, a boundary node has automatically been created in the matching graph, and is connected to the stabilisers acting non-trivially on qubits 0 and 4. The weights of all edges in the matching graph default to 1.0, unless they are specified using the `spacelike_weights` parameter.\n",
    "\n",
    "We can visualise the matching graph using the `Matching.draw()` method:"
   ]
  },
  {
   "cell_type": "code",
   "execution_count": 3,
   "metadata": {},
   "outputs": [
    {
     "data": {
      "image/png": "[encoded data removed]",
      "text/plain": [
       "<Figure size 432x288 with 1 Axes>"
      ]
     },
     "metadata": {},
     "output_type": "display_data"
    }
   ],
   "source": [
    "%matplotlib inline\n",
    "m.draw()"
   ]
  },
  {
   "cell_type": "code",
   "execution_count": null,
   "metadata": {},
   "outputs": [],
   "source": []
  },
  {
   "cell_type": "markdown",
   "metadata": {},
   "source": [
    "Note that the stabiliser nodes are shown as filled circles, and the boundary node (labelled 4) is shown as a hollow circle. Each edge is labelled with its `fault_ids` attribute, which gives the id (or id's) of any self-inverse faults (such as frame changes) which are flipped when the edge is flipped. When a `pymatching.Matching` object is constructed from a check matrix `H` as done here, each edge is given a `fault_ids` attribute equal to the index of its column in `H`. Since here we chose to define `H` from the $Z$ stabilisers of the code, each column corresponds to a single physical Pauli $X$ error on a physical qubit (so there is a one-to-one correspondence between each self-inverse fault and each qubit). Note that in earlier versions of PyMatching, `fault_ids` was instead named `qubit_id`, and as a result `qubit_id` is still accepted instead of `fault_ids` as an argument when constructing `Matching` objects in order to maintain backward compatibility."
   ]
  },
  {
   "cell_type": "markdown",
   "metadata": {},
   "source": [
    "If $X$ errors occur on the third and fourth qubits we have a binary noise vector:"
   ]
  },
  {
   "cell_type": "code",
   "execution_count": 4,
   "metadata": {},
   "outputs": [],
   "source": [
    "noise = np.array([0,0,1,1,0])"
   ]
  },
  {
   "cell_type": "markdown",
   "metadata": {},
   "source": [
    "and the resulting syndrome vector is:"
   ]
  },
  {
   "cell_type": "code",
   "execution_count": 5,
   "metadata": {},
   "outputs": [
    {
     "name": "stdout",
     "output_type": "stream",
     "text": [
      "[0 1 0 1]\n"
     ]
    }
   ],
   "source": [
    "z = Hz@noise % 2\n",
    "print(z)"
   ]
  },
  {
   "cell_type": "markdown",
   "metadata": {},
   "source": [
    "This syndrome vector `z` can then be decoded simply using:"
   ]
  },
  {
   "cell_type": "code",
   "execution_count": 6,
   "metadata": {},
   "outputs": [
    {
     "name": "stdout",
     "output_type": "stream",
     "text": [
      "c: [0 0 1 1 0], of type <class 'numpy.ndarray'>\n"
     ]
    }
   ],
   "source": [
    "c = m.decode(z)\n",
    "print(\"c: {}, of type {}\".format(c, type(c)))"
   ]
  },
  {
   "cell_type": "markdown",
   "metadata": {},
   "source": [
    "where `c` is the $X$ correction operator (i.e. $IIXXI$)."
   ]
  },
  {
   "cell_type": "markdown",
   "metadata": {},
   "source": [
    "Note that for larger check matrices you may instead prefer to use a scipy sparse matrix to represent the check matrix:"
   ]
  },
  {
   "cell_type": "code",
   "execution_count": 7,
   "metadata": {},
   "outputs": [
    {
     "data": {
      "text/plain": [
       "<pymatching.Matching object with 4 detectors, 1 boundary node, and 5 edges>"
      ]
     },
     "execution_count": 7,
     "metadata": {},
     "output_type": "execute_result"
    }
   ],
   "source": [
    "import scipy\n",
    "\n",
    "Hz = scipy.sparse.csr_matrix(Hz)\n",
    "m = Matching(Hz)\n",
    "m"
   ]
  },
  {
   "cell_type": "markdown",
   "metadata": {},
   "source": [
    "## Noisy Syndromes"
   ]
  },
  {
   "cell_type": "markdown",
   "metadata": {},
   "source": [
    "### Spacetime matching graph\n",
    "\n",
    "If stabiliser measurements are instead noisy, then each stabiliser measurement must be repeated, with each defect in the matching graph corresponding to a change in the syndrome (see IV B of [this paper](https://arxiv.org/abs/quant-ph/0110143)). We will repeat each stabiliser measurement 5 times, with each qubit suffering an $X$ error with probability `p`, and each stabiliser will be measured incorrectly with probability `q`. Spacelike edges will be weighted with $\\log((1-p)/p)$ and timelike edges will be weighted with $\\log((1-q)/q)$. The Matching object representing this spacetime matching graph can be constructed using:"
   ]
  },
  {
   "cell_type": "code",
   "execution_count": 8,
   "metadata": {},
   "outputs": [],
   "source": [
    "repetitions=5\n",
    "p = 0.05\n",
    "q = 0.05\n",
    "m2d = Matching(Hz, \n",
    "               spacelike_weights=np.log((1-p)/p),\n",
    "               repetitions=repetitions,\n",
    "               timelike_weights=np.log((1-q)/q)\n",
    "              )"
   ]
  },
  {
   "cell_type": "markdown",
   "metadata": {},
   "source": [
    "### Simulate noisy syndromes\n",
    "\n",
    "Now if each qubit suffers an $X$ error with probability `p` in each round of stabiliser measurements, the errors on the data qubits can be given as a 2D numpy array:"
   ]
  },
  {
   "cell_type": "code",
   "execution_count": 9,
   "metadata": {},
   "outputs": [
    {
     "data": {
      "text/plain": [
       "array([[0, 0, 1, 0, 0],\n",
       "       [0, 0, 0, 0, 0],\n",
       "       [0, 0, 0, 0, 1],\n",
       "       [0, 0, 0, 0, 0],\n",
       "       [0, 0, 0, 0, 0]], dtype=uint8)"
      ]
     },
     "execution_count": 9,
     "metadata": {},
     "output_type": "execute_result"
    }
   ],
   "source": [
    "num_stabilisers, num_qubits = Hz.shape\n",
    "np.random.seed(1) # Keep RNG deterministic\n",
    "noise = (np.random.rand(num_qubits, repetitions) < p).astype(np.uint8)\n",
    "noise # New errors in each time step"
   ]
  },
  {
   "cell_type": "code",
   "execution_count": 10,
   "metadata": {},
   "outputs": [
    {
     "data": {
      "text/plain": [
       "array([[0, 0, 1, 1, 1],\n",
       "       [0, 0, 0, 0, 0],\n",
       "       [0, 0, 0, 0, 1],\n",
       "       [0, 0, 0, 0, 0],\n",
       "       [0, 0, 0, 0, 0]], dtype=uint8)"
      ]
     },
     "execution_count": 10,
     "metadata": {},
     "output_type": "execute_result"
    }
   ],
   "source": [
    "noise_cumulative = (np.cumsum(noise, 1) % 2).astype(np.uint8)\n",
    "noise_total = noise_cumulative[:,-1] # Total cumulative noise at the last round\n",
    "noise_cumulative # Cumulative errors in each time step"
   ]
  },
  {
   "cell_type": "markdown",
   "metadata": {},
   "source": [
    "The corresponding noiseless syndrome would be:"
   ]
  },
  {
   "cell_type": "code",
   "execution_count": 11,
   "metadata": {},
   "outputs": [
    {
     "data": {
      "text/plain": [
       "array([[0, 0, 1, 1, 1],\n",
       "       [0, 0, 0, 0, 1],\n",
       "       [0, 0, 0, 0, 1],\n",
       "       [0, 0, 0, 0, 0]])"
      ]
     },
     "execution_count": 11,
     "metadata": {},
     "output_type": "execute_result"
    }
   ],
   "source": [
    "noiseless_syndrome = Hz@noise_cumulative % 2\n",
    "noiseless_syndrome # Noiseless syndrome"
   ]
  },
  {
   "cell_type": "markdown",
   "metadata": {},
   "source": [
    "We assume each syndrome measurement is incorrect with probability `q`, but that the last round of measurements is perfect to ensure an even number of defects (a simple approximation - the overlapping recovery method could be used in practice):"
   ]
  },
  {
   "cell_type": "code",
   "execution_count": 12,
   "metadata": {},
   "outputs": [
    {
     "data": {
      "text/plain": [
       "array([[0, 0, 1, 0, 0],\n",
       "       [0, 0, 0, 0, 0],\n",
       "       [0, 0, 0, 1, 0],\n",
       "       [0, 0, 0, 0, 0]], dtype=uint8)"
      ]
     },
     "execution_count": 12,
     "metadata": {},
     "output_type": "execute_result"
    }
   ],
   "source": [
    "syndrome_error = (np.random.rand(num_stabilisers, repetitions) < q).astype(np.uint8)\n",
    "syndrome_error[:,-1] = 0\n",
    "syndrome_error # Syndrome errors"
   ]
  },
  {
   "cell_type": "code",
   "execution_count": 13,
   "metadata": {},
   "outputs": [
    {
     "data": {
      "text/plain": [
       "array([[0, 0, 0, 1, 1],\n",
       "       [0, 0, 0, 0, 1],\n",
       "       [0, 0, 0, 1, 1],\n",
       "       [0, 0, 0, 0, 0]])"
      ]
     },
     "execution_count": 13,
     "metadata": {},
     "output_type": "execute_result"
    }
   ],
   "source": [
    "noisy_syndrome = (noiseless_syndrome + syndrome_error) % 2\n",
    "noisy_syndrome # Noisy syndromes"
   ]
  },
  {
   "cell_type": "code",
   "execution_count": 14,
   "metadata": {},
   "outputs": [
    {
     "data": {
      "text/plain": [
       "array([[0, 0, 0, 1, 0],\n",
       "       [0, 0, 0, 0, 1],\n",
       "       [0, 0, 0, 1, 0],\n",
       "       [0, 0, 0, 0, 0]])"
      ]
     },
     "execution_count": 14,
     "metadata": {},
     "output_type": "execute_result"
    }
   ],
   "source": [
    "noisy_syndrome[:,1:] = (noisy_syndrome[:,1:] - noisy_syndrome[:,0:-1]) % 2\n",
    "noisy_syndrome # Convert to difference syndrome"
   ]
  },
  {
   "cell_type": "markdown",
   "metadata": {},
   "source": [
    "### Decode\n",
    "\n",
    "Decoding can now be done just by inputting this 2D syndrome vector to the `Matching.decode` method:"
   ]
  },
  {
   "cell_type": "code",
   "execution_count": 15,
   "metadata": {},
   "outputs": [
    {
     "data": {
      "text/plain": [
       "array([1, 0, 1, 0, 0], dtype=uint8)"
      ]
     },
     "execution_count": 15,
     "metadata": {},
     "output_type": "execute_result"
    }
   ],
   "source": [
    "correction = m2d.decode(noisy_syndrome)\n",
    "correction"
   ]
  },
  {
   "cell_type": "markdown",
   "metadata": {},
   "source": [
    "And we see that this correction operator successfully corrects the cumulative total noise:"
   ]
  },
  {
   "cell_type": "code",
   "execution_count": 16,
   "metadata": {},
   "outputs": [
    {
     "data": {
      "text/plain": [
       "array([0, 0, 0, 0, 0], dtype=uint8)"
      ]
     },
     "execution_count": 16,
     "metadata": {},
     "output_type": "execute_result"
    }
   ],
   "source": [
    "(noise_total + correction) % 2"
   ]
  },
  {
   "cell_type": "markdown",
   "metadata": {},
   "source": [
    "## Loading from NetworkX graphs\n",
    "\n",
    "While it can be convenient to decode directly from the check matrices, especially when simulating under a standard independent or phenomenological noise model, it is sometimes necessary to construct the matching graph nodes, edges, weights and boundaries explicitly. This is useful for decoding under more complicated (e.g. circuit-level) noise models, for which matching graph edges can be between nodes separated in both space and time (\"diagonal edges\"). There can also be so called \"hook errors\", which are single faults (matching graph edges) corresponding to errors on two or more qubits. Furthermore, the stabilisers themselves can change as a function of time when using schedule-induced gauge fixing of a subsystem code (see [this paper](https://arxiv.org/abs/2010.09626)).\n",
    "\n",
    "To provide the functionality to handle these use cases, PyMatching allows Matching objects to be constructed explicitly from [NetworkX](https://networkx.org/documentation/stable/index.html) graphs.\n",
    "\n",
    "Each node in the matching graph with $n$ nodes, represented by the `pymatching.Matching` object, should be uniquely identified by an integer between $0$ and $n-1$ (inclusive). Edges are then added between these integer nodes, with optional attributes `weight`, `fault_ids` and `error_probability`. \n",
    "\n",
    "We will again use the five qubit quantum repetition code as an example. This time, nodes 1, 2, 3 and 4 will correspond to stabiliser measurements (detectors), and nodes 0 and 5 will be boundary nodes. We'll start by creating the following NetworkX graph:"
   ]
  },
  {
   "cell_type": "code",
   "execution_count": 17,
   "metadata": {},
   "outputs": [],
   "source": [
    "import networkx as nx\n",
    "\n",
    "p = 0.2\n",
    "g = nx.Graph()\n",
    "g.add_edge(0, 1, fault_ids=0, weight=np.log((1-p)/p), error_probability=p)\n",
    "g.add_edge(1, 2, fault_ids=1, weight=np.log((1-p)/p), error_probability=p)\n",
    "g.add_edge(2, 3, fault_ids=2, weight=np.log((1-p)/p), error_probability=p)\n",
    "g.add_edge(3, 4, fault_ids=3, weight=np.log((1-p)/p), error_probability=p)\n",
    "g.add_edge(4, 5, fault_ids=4, weight=np.log((1-p)/p), error_probability=p)"
   ]
  },
  {
   "cell_type": "markdown",
   "metadata": {},
   "source": [
    "Here each \"fault_ids\" attribute is used to store the id of the qubit which is acted on by an $X$ error (we assume each stabiliser is a $Z$-type operator).\n"
   ]
  },
  {
   "cell_type": "markdown",
   "metadata": {},
   "source": [
    "Recall that nodes 0 and 5 should be boundary nodes, since they do not correspond to stabilizers/detectors. E.g. the boundary node 0 allows us to associate an edge (0, 1) with a fault mechanism that only flips detector 1. We can specify that nodes 0 and 5 are boundary nodes by setting their optional `is_boundary` attribute to `True`:"
   ]
  },
  {
   "cell_type": "code",
   "execution_count": 18,
   "metadata": {},
   "outputs": [],
   "source": [
    "g.nodes[0]['is_boundary'] = True\n",
    "g.nodes[5]['is_boundary'] = True"
   ]
  },
  {
   "cell_type": "markdown",
   "metadata": {},
   "source": [
    "We now connect these boundary nodes with an edge of `weight` zero, and with `fault_ids` either unspecified or set to `set()` or `-1` (since edges between boundaries do not correspond to Pauli errors):"
   ]
  },
  {
   "cell_type": "code",
   "execution_count": 19,
   "metadata": {},
   "outputs": [],
   "source": [
    "g.add_edge(0, 5, weight=0.0, fault_ids=-1, error_probability=0.0)"
   ]
  },
  {
   "cell_type": "markdown",
   "metadata": {},
   "source": [
    "Here we have used two boundary nodes to demonstrate that multiple boundary nodes can be added. However, usually only one boundary node needs to be added. For example, we could have connected a single boundary node to nodes 1 and 4 instead here."
   ]
  },
  {
   "cell_type": "markdown",
   "metadata": {},
   "source": [
    "Just for the purpose of demonstration, we'll assume that there is also an error process that gives a single hook error on qubits $2$ and $3$, corresponding to a single edge between node $2$ and node $4$. This error will occur with probability `p2`. This can be added using:"
   ]
  },
  {
   "cell_type": "code",
   "execution_count": 20,
   "metadata": {},
   "outputs": [],
   "source": [
    "p2 = 0.12\n",
    "g.add_edge(2, 4, fault_ids={2, 3}, weight=np.log((1-p2)/p2), error_probability=p2)"
   ]
  },
  {
   "cell_type": "markdown",
   "metadata": {},
   "source": [
    "Finally, we can now use this NetworkX graph to construct the `Matching` object:"
   ]
  },
  {
   "cell_type": "code",
   "execution_count": 21,
   "metadata": {},
   "outputs": [
    {
     "data": {
      "text/plain": [
       "<pymatching.Matching object with 4 detectors, 2 boundary nodes, and 7 edges>"
      ]
     },
     "execution_count": 21,
     "metadata": {},
     "output_type": "execute_result"
    }
   ],
   "source": [
    "m = Matching(g)\n",
    "m"
   ]
  },
  {
   "cell_type": "markdown",
   "metadata": {},
   "source": [
    "We can also use the `Matching.draw()` method to visualise our matching graph as before:"
   ]
  },
  {
   "cell_type": "code",
   "execution_count": 22,
   "metadata": {},
   "outputs": [
    {
     "data": {
      "image/png": "[encoded data removed]",
      "text/plain": [
       "<Figure size 432x288 with 1 Axes>"
      ]
     },
     "metadata": {},
     "output_type": "display_data"
    }
   ],
   "source": [
    "%matplotlib inline\n",
    "m.draw()"
   ]
  },
  {
   "cell_type": "markdown",
   "metadata": {},
   "source": [
    "While the noise and syndrome can be generated separately without PyMatching, if the optional `error_probability` attribute is given to every edge, then the edges can be flipped independently with the `error_probability` assigned to them using the `add_noise` method:"
   ]
  },
  {
   "cell_type": "code",
   "execution_count": 23,
   "metadata": {},
   "outputs": [
    {
     "name": "stdout",
     "output_type": "stream",
     "text": [
      "[0 1 0 0 0]\n",
      "[0 1 1 0 0 0]\n"
     ]
    }
   ],
   "source": [
    "from pymatching import set_seed\n",
    "set_seed(1) # Keep RNG deterministic\n",
    "\n",
    "noise, syndrome = m.add_noise()\n",
    "print(noise)\n",
    "print(syndrome)"
   ]
  },
  {
   "cell_type": "markdown",
   "metadata": {},
   "source": [
    "We can now decode as before using the `decode` method:"
   ]
  },
  {
   "cell_type": "code",
   "execution_count": 24,
   "metadata": {
    "scrolled": true
   },
   "outputs": [
    {
     "name": "stdout",
     "output_type": "stream",
     "text": [
      "[0 0 0 0 0]\n"
     ]
    }
   ],
   "source": [
    "correction = m.decode(syndrome)\n",
    "print((correction+noise)%2)"
   ]
  },
  {
   "cell_type": "markdown",
   "metadata": {},
   "source": [
    "## Constructing a matching graph by adding edges directly to the Matching object"
   ]
  },
  {
   "cell_type": "markdown",
   "metadata": {},
   "source": [
    "The most direct way to construct a matching graph is to add edges explicitly to the `pymatching.Matching` object. This approach is just as flexible as constructing the graph via NetworkX. For example, the example used in the previous section with NetworkX can instead be constructed as follows:"
   ]
  },
  {
   "cell_type": "code",
   "execution_count": 25,
   "metadata": {},
   "outputs": [
    {
     "data": {
      "text/plain": [
       "<pymatching.Matching object with 4 detectors, 2 boundary nodes, and 7 edges>"
      ]
     },
     "execution_count": 25,
     "metadata": {},
     "output_type": "execute_result"
    }
   ],
   "source": [
    "p = 0.2\n",
    "m = Matching()\n",
    "m.add_edge(0, 1, fault_ids=0, weight=np.log((1-p)/p), error_probability=p)\n",
    "m.add_edge(1, 2, fault_ids=1, weight=np.log((1-p)/p), error_probability=p)\n",
    "m.add_edge(2, 3, fault_ids=2, weight=np.log((1-p)/p), error_probability=p)\n",
    "m.add_edge(3, 4, fault_ids=3, weight=np.log((1-p)/p), error_probability=p)\n",
    "m.add_edge(4, 5, fault_ids=4, weight=np.log((1-p)/p), error_probability=p)\n",
    "m.add_edge(0, 5, weight=0.0, fault_ids=set(), error_probability=1.0)\n",
    "p2 = 0.12\n",
    "m.add_edge(2, 4, fault_ids={2, 3}, weight=np.log((1-p2)/p2), error_probability=p2)\n",
    "m.set_boundary_nodes({0, 5})\n",
    "m"
   ]
  },
  {
   "cell_type": "code",
   "execution_count": 26,
   "metadata": {},
   "outputs": [
    {
     "data": {
      "image/png": "[encoded data removed]",
      "text/plain": [
       "<Figure size 432x288 with 1 Axes>"
      ]
     },
     "metadata": {},
     "output_type": "display_data"
    }
   ],
   "source": [
    "%matplotlib inline\n",
    "m.draw()"
   ]
  },
  {
   "cell_type": "markdown",
   "metadata": {},
   "source": [
    "## Using Stim to construct a PyMatching matching graph\n",
    "\n",
    "For simulations of quantum error correcting codes using more realistic circuit-level noise, manually constructing the matching graph can be challenging and time-consuming. Fortunately, these matching graphs can be constructed automatically using [Stim](https://github.com/quantumlib/Stim) for Clifford stabiliser measurement circuits and Pauli noise models. Using Stim, you need only define an annotated stabiliser measurement circuit, from which the matching graph is automatically generated (via a Detector Error Model). Stim can also sample directly from the stabiliser measurement circuit. For more information on combining Stim and PyMatching, see the Stim [\"getting started\"](https://github.com/quantumlib/Stim/blob/8e4a6e676fae4a8316b695ab4d7b160f1bd62201/doc/getting_started.ipynb) notebook."
   ]
  }
 ],
 "metadata": {
  "kernelspec": {
   "display_name": "Python 3",
   "language": "python",
   "name": "python3"
  },
  "language_info": {
   "codemirror_mode": {
    "name": "ipython",
    "version": 3
   },
   "file_extension": ".py",
   "mimetype": "text/x-python",
   "name": "python",
   "nbconvert_exporter": "python",
   "pygments_lexer": "ipython3",
   "version": "3.7.4"
  }
 },
 "nbformat": 4,
 "nbformat_minor": 2
}
