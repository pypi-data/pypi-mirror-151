{
 "cells": [
  {
   "cell_type": "code",
   "execution_count": 1,
   "id": "989878db",
   "metadata": {},
   "outputs": [],
   "source": [
    "import rebound as rb\n",
    "import numpy as np\n",
    "from celmech.nbody_simulation_utilities import set_time_step"
   ]
  },
  {
   "cell_type": "markdown",
   "id": "dc86afa2",
   "metadata": {},
   "source": [
    "# Frequency analysis\n",
    "This short example runs an $N$-body integration of the outer solar system and uses frequency analysis to determine the frequencies and amplitudes of the secular modes of the system. In particular we use the ``celmech`` function ``frequency_modified_fourier_transform`` to compute the \"FMFT\" of planets' complex eccentricities using the algorithm of [Šidlichovský & Nesvorný (1996)](https://ui.adsabs.harvard.edu/abs/1996CeMDA..65..137S/abstract). \n",
    "\n",
    "The function ``frequency_modified_fourier_transform`` is just a wrapper to a C implementation by D. Nesvorný available [here](https://www-n.oca.eu/nesvorny/programs.html), so please be sure to credit him appropriately if you make use of this function."
   ]
  },
  {
   "cell_type": "markdown",
   "id": "f0c14f50",
   "metadata": {},
   "source": [
    "## Integration\n",
    "\n",
    "Set up a simulation of the outer solar system"
   ]
  },
  {
   "cell_type": "code",
   "execution_count": 2,
   "id": "3fc3b23d",
   "metadata": {},
   "outputs": [
    {
     "name": "stdout",
     "output_type": "stream",
     "text": [
      "Searching NASA Horizons for 'Sun'... \n",
      "Found: Sun (10) \n",
      "Searching NASA Horizons for 'Jupiter'... \n",
      "Found: Jupiter Barycenter (5) (chosen from query 'Jupiter')\n",
      "Searching NASA Horizons for 'Saturn'... \n",
      "Found: Saturn Barycenter (6) (chosen from query 'Saturn')\n",
      "Searching NASA Horizons for 'Uranus'... \n",
      "Found: Uranus Barycenter (7) (chosen from query 'Uranus')\n",
      "Searching NASA Horizons for 'Neptune'... \n",
      "Found: Neptune Barycenter (8) (chosen from query 'Neptune')\n"
     ]
    }
   ],
   "source": [
    "sim = rb.Simulation()\n",
    "sim.units = (\"Msun\",\"AU\",\"yr\")\n",
    "bodies = [\"Sun\",\"Jupiter\",\"Saturn\",\"Uranus\",\"Neptune\"]\n",
    "for body in bodies:\n",
    "    sim.add(body)\n",
    "sim.move_to_com()\n",
    "sim.integrator = 'whfast'\n",
    "sim.ri_whfast.safe_mode=0\n",
    "set_time_step(sim,1/20)"
   ]
  },
  {
   "cell_type": "markdown",
   "id": "03dbf279",
   "metadata": {},
   "source": [
    "Run integration, saving snapshots to a simulation archive file."
   ]
  },
  {
   "cell_type": "code",
   "execution_count": null,
   "id": "b31d02a6",
   "metadata": {},
   "outputs": [],
   "source": [
    "Tfin = 1e7\n",
    "Nout = 512\n",
    "save_file = \"outer_solar_system_10Myr.sa\"\n",
    "sim.automateSimulationArchive(save_file,interval=Tfin/Nout,deletefile=True)\n",
    "\n",
    "sim.integrate(Tfin)"
   ]
  },
  {
   "cell_type": "markdown",
   "id": "07a76225",
   "metadata": {},
   "source": [
    "Read in integration results"
   ]
  },
  {
   "cell_type": "code",
   "execution_count": null,
   "id": "a101f4e9",
   "metadata": {
    "scrolled": true
   },
   "outputs": [],
   "source": [
    "from celmech.nbody_simulation_utilities import get_simarchive_integration_results\n",
    "\n",
    "results = get_simarchive_integration_results(save_file)"
   ]
  },
  {
   "cell_type": "markdown",
   "id": "0c98ee97",
   "metadata": {},
   "source": [
    "## Analysis\n",
    "\n",
    "Apply the FMFT algorithm to the planets' complex eccentricities, defined as\n",
    "$$\n",
    "z_i = e_i\\exp(i\\varpi_i)\n",
    "$$\n",
    "\n",
    "Given an input time series of $z(t)$ values at equally-spaced time intervals, the FMFT algorithm decomposes the time series into $N_\\mathrm{freq}$ Fourier harmonics by determining frequencies $\\nu_{j}$ and complex amplitudes, $a_j$, such that\n",
    "$$\n",
    "z_i(t) \\approx \\sum_{j=1}^{N_\\mathrm{freq}}a_j\\exp[i\\nu_j t]\n",
    "$$"
   ]
  },
  {
   "cell_type": "code",
   "execution_count": null,
   "id": "ce4ae9d8",
   "metadata": {},
   "outputs": [],
   "source": [
    "from celmech.miscellaneous import frequency_modified_fourier_transform\n",
    "\n",
    "# Calculate complex eccentricities\n",
    "results['z'] = results['e'] * np.exp(1j * results['pomega'])\n",
    "\n",
    "# Number of Fourier harmonics to calculate for each planet\n",
    "Nfreq=2\n",
    "\n",
    "time = results['time']\n",
    "arc_sec_per_yr = 60*60*180 / np.pi\n",
    "\n",
    "\n",
    "title=\"Frequency [\\\"/yr] | Amplitude\"\n",
    "print(title)\n",
    "print(\"=\"*len(title))\n",
    "for i,planet in enumerate(bodies[1:]):\n",
    "    print(planet)\n",
    "    print(\"-\"*len(planet))\n",
    "\n",
    "\n",
    "    # Calculate results\n",
    "    z = results['z'][i]\n",
    "    freq_results = frequency_modified_fourier_transform(time,z,Nfreq)\n",
    "    \n",
    "    \n",
    "    # results are stored as a dictionary with entries\n",
    "    # in the form: {nu_j:a_j}\n",
    "    \n",
    "    for freq,amp in freq_results.items():\n",
    "        freq_scaled = freq * arc_sec_per_yr\n",
    "        abs_amp = np.abs(amp)\n",
    "        print(\"{:+.2f}\\t\\t|\\t{:.4f}\".format(freq_scaled, abs_amp))\n",
    "    print(\"\\n\")"
   ]
  },
  {
   "cell_type": "code",
   "execution_count": null,
   "id": "6acece1f",
   "metadata": {},
   "outputs": [],
   "source": []
  }
 ],
 "metadata": {
  "kernelspec": {
   "display_name": "Python 3 (ipykernel)",
   "language": "python",
   "name": "python3"
  },
  "language_info": {
   "codemirror_mode": {
    "name": "ipython",
    "version": 3
   },
   "file_extension": ".py",
   "mimetype": "text/x-python",
   "name": "python",
   "nbconvert_exporter": "python",
   "pygments_lexer": "ipython3",
   "version": "3.9.7"
  }
 },
 "nbformat": 4,
 "nbformat_minor": 5
}
