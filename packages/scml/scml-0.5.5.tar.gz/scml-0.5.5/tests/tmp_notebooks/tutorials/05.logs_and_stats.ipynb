{
 "cells": [
  {
   "cell_type": "code",
   "execution_count": 1,
   "id": "located-vatican",
   "metadata": {
    "execution": {
     "iopub.execute_input": "2022-05-18T03:01:03.898352Z",
     "iopub.status.busy": "2022-05-18T03:01:03.898226Z",
     "iopub.status.idle": "2022-05-18T03:01:04.881115Z",
     "shell.execute_reply": "2022-05-18T03:01:04.880872Z"
    },
    "papermill": {
     "duration": 0.989001,
     "end_time": "2022-05-18T03:01:04.882016",
     "exception": false,
     "start_time": "2022-05-18T03:01:03.893015",
     "status": "completed"
    },
    "tags": [
     "remove_cell"
    ]
   },
   "outputs": [
    {
     "data": {
      "text/html": [
       "<style>.container { width:95% !important; }</style>"
      ],
      "text/plain": [
       "<IPython.core.display.HTML object>"
      ]
     },
     "metadata": {},
     "output_type": "display_data"
    }
   ],
   "source": [
    "%matplotlib inline\n",
    "import warnings\n",
    "warnings.filterwarnings('ignore')\n",
    "# setup disply parameters\n",
    "from matplotlib import pylab as plt\n",
    "import seaborn as sns\n",
    "from matplotlib.ticker import StrMethodFormatter\n",
    "float_formatter = StrMethodFormatter('{x:0.03f}')\n",
    "from IPython.core.display import display, HTML\n",
    "display(HTML(\"<style>.container { width:95% !important; }</style>\"))\n",
    "SMALL_SIZE = 14\n",
    "MEDIUM_SIZE = 16\n",
    "BIGGER_SIZE = 20\n",
    "\n",
    "plt.rc('font', size=SMALL_SIZE)          # controls default text sizes\n",
    "plt.rc('axes', titlesize=SMALL_SIZE)     # fontsize of the axes title\n",
    "plt.rc('axes', labelsize=MEDIUM_SIZE)    # fontsize of the x and y labels\n",
    "plt.rc('xtick', labelsize=SMALL_SIZE)    # fontsize of the tick labels\n",
    "plt.rc('ytick', labelsize=SMALL_SIZE)    # fontsize of the tick labels\n",
    "plt.rc('legend', fontsize=SMALL_SIZE)    # legend fontsize\n",
    "plt.rc('figure', titlesize=BIGGER_SIZE)  # fontsize of the figure title\n",
    "plt.rc('figure', figsize=(18, 6)) # set figure size\n",
    "plt.rc(\"animation\", html=\"html5\")\n"
   ]
  },
  {
   "cell_type": "code",
   "execution_count": 2,
   "id": "closed-award",
   "metadata": {
    "execution": {
     "iopub.execute_input": "2022-05-18T03:01:04.890577Z",
     "iopub.status.busy": "2022-05-18T03:01:04.890474Z",
     "iopub.status.idle": "2022-05-18T03:01:04.892247Z",
     "shell.execute_reply": "2022-05-18T03:01:04.892028Z"
    },
    "papermill": {
     "duration": 0.006906,
     "end_time": "2022-05-18T03:01:04.893092",
     "exception": false,
     "start_time": "2022-05-18T03:01:04.886186",
     "status": "completed"
    },
    "tags": [
     "remove_cell"
    ]
   },
   "outputs": [],
   "source": [
    "import pandas as pd\n",
    "import numpy as np\n",
    "from time import sleep\n",
    "from pprint import pprint"
   ]
  },
  {
   "cell_type": "code",
   "execution_count": 3,
   "id": "imposed-profit",
   "metadata": {
    "execution": {
     "iopub.execute_input": "2022-05-18T03:01:04.901018Z",
     "iopub.status.busy": "2022-05-18T03:01:04.900924Z",
     "iopub.status.idle": "2022-05-18T03:01:04.927504Z",
     "shell.execute_reply": "2022-05-18T03:01:04.927258Z"
    },
    "papermill": {
     "duration": 0.034737,
     "end_time": "2022-05-18T03:01:04.931590",
     "exception": false,
     "start_time": "2022-05-18T03:01:04.896853",
     "status": "completed"
    },
    "tags": [
     "remove_cell"
    ]
   },
   "outputs": [],
   "source": [
    "%%capture\n",
    "from tqdm import tqdm_notebook as tqdm\n",
    "tqdm().pandas()"
   ]
  },
  {
   "cell_type": "markdown",
   "id": "sonic-emerald",
   "metadata": {
    "papermill": {
     "duration": 0.003858,
     "end_time": "2022-05-18T03:01:04.939080",
     "exception": false,
     "start_time": "2022-05-18T03:01:04.935222",
     "status": "completed"
    },
    "tags": []
   },
   "source": [
    "## Logging and Statistics"
   ]
  },
  {
   "cell_type": "markdown",
   "id": "sophisticated-vacuum",
   "metadata": {
    "papermill": {
     "duration": 0.00336,
     "end_time": "2022-05-18T03:01:04.945901",
     "exception": false,
     "start_time": "2022-05-18T03:01:04.942541",
     "status": "completed"
    },
    "tags": []
   },
   "source": [
    "In this tutorial we will describe how to utilize the logging facilities provided in the NegMAS library for developing SCML agents and analyzing their behavior.\n",
    "\n",
    "Most of the data in this tutorial apply equally to `SCML2020`, `SCML2021` and `SCML-OneShot` simulations.\n",
    "\n",
    "### Types of Logs\n",
    "\n",
    "NegMAS provides two main types of logs:\n",
    "\n",
    "- **System Logs** These types of logs all go to a single log file. System logs are recorded using **loginfo/debug/warning/error** methods of the world/agent-world-interface.\n",
    "- **Agent Logs** Go to a dedicated file for each agent. Agent logs are recoreded using the **log\\*_agent** family of functions in the world/agent-world interface.\n",
    "\n",
    "For example, you can log a debug method to the agent log using:\n",
    "\n",
    "```python\n",
    "self.awi.logdebug_agent(\"My Message\")\n",
    "```\n",
    "\n",
    "You can also log a system debug message (that goes to the central log file of the world) using:\n",
    "\n",
    "```python\n",
    "self.awi.logdebug(\"My Message\")\n",
    "```\n",
    "\n",
    "### Primer on logging in negmas\n",
    "\n",
    "Logs are generated by default whenever you run a world simulation in NegMAS (and SCML). Let's just run a simulation to see where are logs stored"
   ]
  },
  {
   "cell_type": "code",
   "execution_count": 4,
   "id": "complex-sphere",
   "metadata": {
    "execution": {
     "iopub.execute_input": "2022-05-18T03:01:04.953560Z",
     "iopub.status.busy": "2022-05-18T03:01:04.953439Z",
     "iopub.status.idle": "2022-05-18T03:01:05.140180Z",
     "shell.execute_reply": "2022-05-18T03:01:05.139775Z"
    },
    "papermill": {
     "duration": 0.19196,
     "end_time": "2022-05-18T03:01:05.141378",
     "exception": false,
     "start_time": "2022-05-18T03:01:04.949418",
     "status": "completed"
    },
    "tags": []
   },
   "outputs": [],
   "source": [
    "!rm -r ~/negmas/logs/test_world"
   ]
  },
  {
   "cell_type": "code",
   "execution_count": 5,
   "id": "fiscal-posting",
   "metadata": {
    "execution": {
     "iopub.execute_input": "2022-05-18T03:01:05.152156Z",
     "iopub.status.busy": "2022-05-18T03:01:05.152034Z",
     "iopub.status.idle": "2022-05-18T03:01:05.416601Z",
     "shell.execute_reply": "2022-05-18T03:01:05.416343Z"
    },
    "papermill": {
     "duration": 0.269834,
     "end_time": "2022-05-18T03:01:05.417821",
     "exception": false,
     "start_time": "2022-05-18T03:01:05.147987",
     "status": "completed"
    },
    "tags": []
   },
   "outputs": [],
   "source": [
    "from scml import SCML2020World\n",
    "from scml import DecentralizingAgent, RandomAgent, DoNothingAgent, DecentralizingAgentWithLogging\n",
    "\n",
    "# create and run the world\n",
    "world = SCML2020World(\n",
    "    **SCML2020World.generate(\n",
    "        agent_types=[DoNothingAgent], \n",
    "        n_steps=10, \n",
    "        n_processes=2,   \n",
    "        name=\"test_world\"\n",
    "    )\n",
    ")\n",
    "world.loginfo(\"This is a test message\")"
   ]
  },
  {
   "cell_type": "markdown",
   "id": "joined-productivity",
   "metadata": {
    "papermill": {
     "duration": 0.003285,
     "end_time": "2022-05-18T03:01:05.424920",
     "exception": false,
     "start_time": "2022-05-18T03:01:05.421635",
     "status": "completed"
    },
    "tags": []
   },
   "source": [
    "where there any logs generated and where are they?\n",
    "\n",
    "By defaults, all logs for SCML 2020 world simulations go to the folder **~/negmas/logs/{world_name}** and all logs and statistics for tournaments go to **~/negmas/tournament/scml/scml2020/{tournament_name}** with logs and statistics for specific worlds going to **~/negmas/tournament/scml/scml2020/{tournament_name}/{world_name}**\n",
    "\n",
    "Let's check our logs"
   ]
  },
  {
   "cell_type": "code",
   "execution_count": 6,
   "id": "collective-costs",
   "metadata": {
    "execution": {
     "iopub.execute_input": "2022-05-18T03:01:05.432541Z",
     "iopub.status.busy": "2022-05-18T03:01:05.432450Z",
     "iopub.status.idle": "2022-05-18T03:01:05.621641Z",
     "shell.execute_reply": "2022-05-18T03:01:05.621290Z"
    },
    "papermill": {
     "duration": 0.194507,
     "end_time": "2022-05-18T03:01:05.622807",
     "exception": false,
     "start_time": "2022-05-18T03:01:05.428300",
     "status": "completed"
    },
    "tags": []
   },
   "outputs": [
    {
     "name": "stdout",
     "output_type": "stream",
     "text": [
      "\u001b[01;34m/Users/yasser/negmas/logs/test_world\u001b[0m\r\n",
      "├── \u001b[01;34m_agent_logs\u001b[0m\r\n",
      "├── \u001b[00mevents.json\u001b[0m\r\n",
      "└── \u001b[00mlog.txt\u001b[0m\r\n",
      "\r\n",
      "1 directory, 2 files\r\n"
     ]
    }
   ],
   "source": [
    "!tree ~/negmas/logs/test_world\n"
   ]
  },
  {
   "cell_type": "markdown",
   "id": "isolated-armstrong",
   "metadata": {
    "papermill": {
     "duration": 0.006228,
     "end_time": "2022-05-18T03:01:05.632790",
     "exception": false,
     "start_time": "2022-05-18T03:01:05.626562",
     "status": "completed"
    },
    "tags": []
   },
   "source": [
    "As you can see, there is a folder called **_agent_logs** that will store all agent logs (in dedicated files) if the agents save logs. Moreover, there is a **log.txt** file which contains the global logs. Let's just check what is in it\n"
   ]
  },
  {
   "cell_type": "markdown",
   "id": "light-still",
   "metadata": {
    "papermill": {
     "duration": 0.003334,
     "end_time": "2022-05-18T03:01:05.639879",
     "exception": false,
     "start_time": "2022-05-18T03:01:05.636545",
     "status": "completed"
    },
    "tags": []
   },
   "source": [
    "Now we have agent logs. We can inspect one of them"
   ]
  },
  {
   "cell_type": "code",
   "execution_count": 7,
   "id": "warming-bracket",
   "metadata": {
    "execution": {
     "iopub.execute_input": "2022-05-18T03:01:05.647682Z",
     "iopub.status.busy": "2022-05-18T03:01:05.647551Z",
     "iopub.status.idle": "2022-05-18T03:01:05.650666Z",
     "shell.execute_reply": "2022-05-18T03:01:05.650406Z"
    },
    "papermill": {
     "duration": 0.008374,
     "end_time": "2022-05-18T03:01:05.651762",
     "exception": false,
     "start_time": "2022-05-18T03:01:05.643388",
     "status": "completed"
    },
    "scrolled": true,
    "tags": []
   },
   "outputs": [
    {
     "name": "stdout",
     "output_type": "stream",
     "text": [
      "2022-05-18 12:01:05,403 - INFO - 0/10 [0.00%]: test_world: World Created\n",
      "\n",
      "2022-05-18 12:01:05,404 - INFO - 0/10 [0.00%]: 00DoN@0 joined\n",
      "\n",
      "2022-05-18 12:01:05,406 - INFO - 0/10 [0.00%]: 01DoN@0 joined\n",
      "\n",
      "2022-05-18 12:01:05,406 - INFO - 0/10 [0.00%]: 02DoN@0 joined\n",
      "\n",
      "2022-05-18 12:01:05,406 - INFO - 0/10 [0.00%]: 03DoN@0 joined\n",
      "\n",
      "2022-05-18 12:01:05,407 - INFO - 0/10 [0.00%]: 04DoN@1 joined\n",
      "\n",
      "2022-05-18 12:01:05,407 - INFO - 0/10 [0.00%]: 05DoN@1 joined\n",
      "\n",
      "2022-05-18 12:01:05,413 - INFO - 0/10 [0.00%]: SELLER joined\n",
      "\n",
      "2022-05-18 12:01:05,413 - INFO - 0/10 [0.00%]: BUYER joined\n",
      "\n",
      "2022-05-18 12:01:05,415 - INFO - 0/10 [0.00%]: This is a test message\n",
      "\n"
     ]
    }
   ],
   "source": [
    "from pathlib import Path\n",
    "with open(Path.home() /\"negmas\" / \"logs\" / world.name / \"log.txt\", \"r\") as f:\n",
    "    [print(_) for _ in f.readlines()[:10]]"
   ]
  },
  {
   "cell_type": "markdown",
   "id": "universal-knock",
   "metadata": {
    "papermill": {
     "duration": 0.003509,
     "end_time": "2022-05-18T03:01:05.658889",
     "exception": false,
     "start_time": "2022-05-18T03:01:05.655380",
     "status": "completed"
    },
    "tags": []
   },
   "source": [
    "All log entries start with a time-stamp followed by the log type (INFO/DEBUG/WARNING/ERROR/CRITICAL) and the step number (day) then the number of steps and the percentage of the simulation steps passed and finally the message.\n",
    "\n",
    "The world keeps some basic logs like who joined but near the end we can see our message.\n",
    "\n",
    "Most likely you will not need to save directly the system logs but can save debugging information in the agent logs. Some builtin agents do that (e.g. DecentralizingAgent). Let's check an exmple:"
   ]
  },
  {
   "cell_type": "code",
   "execution_count": 8,
   "id": "twenty-wheat",
   "metadata": {
    "execution": {
     "iopub.execute_input": "2022-05-18T03:01:05.666301Z",
     "iopub.status.busy": "2022-05-18T03:01:05.666182Z",
     "iopub.status.idle": "2022-05-18T03:01:05.838969Z",
     "shell.execute_reply": "2022-05-18T03:01:05.838555Z"
    },
    "papermill": {
     "duration": 0.177856,
     "end_time": "2022-05-18T03:01:05.840147",
     "exception": false,
     "start_time": "2022-05-18T03:01:05.662291",
     "status": "completed"
    },
    "tags": []
   },
   "outputs": [],
   "source": [
    "!rm -r ~/negmas/logs/test_world"
   ]
  },
  {
   "cell_type": "code",
   "execution_count": 9,
   "id": "settled-melbourne",
   "metadata": {
    "execution": {
     "iopub.execute_input": "2022-05-18T03:01:05.848686Z",
     "iopub.status.busy": "2022-05-18T03:01:05.848568Z",
     "iopub.status.idle": "2022-05-18T03:01:06.396959Z",
     "shell.execute_reply": "2022-05-18T03:01:06.396714Z"
    },
    "papermill": {
     "duration": 0.553847,
     "end_time": "2022-05-18T03:01:06.397989",
     "exception": false,
     "start_time": "2022-05-18T03:01:05.844142",
     "status": "completed"
    },
    "tags": []
   },
   "outputs": [],
   "source": [
    "SCML2020World(\n",
    "    **SCML2020World.generate(\n",
    "        agent_types=[DecentralizingAgentWithLogging], \n",
    "        n_steps=10, \n",
    "        n_processes=2,   \n",
    "        name=\"test_world\"\n",
    "    )\n",
    ").run()"
   ]
  },
  {
   "cell_type": "code",
   "execution_count": 10,
   "id": "dense-interstate",
   "metadata": {
    "execution": {
     "iopub.execute_input": "2022-05-18T03:01:06.405860Z",
     "iopub.status.busy": "2022-05-18T03:01:06.405762Z",
     "iopub.status.idle": "2022-05-18T03:01:06.580380Z",
     "shell.execute_reply": "2022-05-18T03:01:06.580028Z"
    },
    "papermill": {
     "duration": 0.179595,
     "end_time": "2022-05-18T03:01:06.581478",
     "exception": false,
     "start_time": "2022-05-18T03:01:06.401883",
     "status": "completed"
    },
    "tags": []
   },
   "outputs": [
    {
     "name": "stdout",
     "output_type": "stream",
     "text": [
      "\u001b[01;34m/Users/yasser/negmas/logs/test_world\u001b[0m\r\n",
      "├── \u001b[01;34m_agent_logs\u001b[0m\r\n",
      "│   ├── \u001b[00m00DWL@0.txt\u001b[0m\r\n",
      "│   ├── \u001b[00m01DWL@0.txt\u001b[0m\r\n",
      "│   ├── \u001b[00m02DWL@1.txt\u001b[0m\r\n",
      "│   ├── \u001b[00m03DWL@1.txt\u001b[0m\r\n",
      "│   └── \u001b[00m04DWL@1.txt\u001b[0m\r\n",
      "└── \u001b[00mevents.json\u001b[0m\r\n",
      "\r\n",
      "1 directory, 6 files\r\n"
     ]
    }
   ],
   "source": [
    "!tree ~/negmas/logs/test_world\n"
   ]
  },
  {
   "cell_type": "code",
   "execution_count": 11,
   "id": "little-player",
   "metadata": {
    "execution": {
     "iopub.execute_input": "2022-05-18T03:01:06.589977Z",
     "iopub.status.busy": "2022-05-18T03:01:06.589852Z",
     "iopub.status.idle": "2022-05-18T03:01:06.593129Z",
     "shell.execute_reply": "2022-05-18T03:01:06.592871Z"
    },
    "papermill": {
     "duration": 0.008526,
     "end_time": "2022-05-18T03:01:06.593946",
     "exception": false,
     "start_time": "2022-05-18T03:01:06.585420",
     "status": "completed"
    },
    "tags": []
   },
   "outputs": [
    {
     "name": "stdout",
     "output_type": "stream",
     "text": [
      "2022-05-18 12:01:05,925 - DEBUG - 0/10 [0.00%]: 01DWL@0 requested to sell 1 to 02DWL@1 q: (1, 10), u: (8, 26), t: (1, 6)\n",
      "\n",
      "2022-05-18 12:01:05,925 - INFO - 0/10 [0.00%]: 01DWL@0 requested negotiation with ['01DWL@0', '02DWL@1'] (ID 0b80363a-f1c2-42ce-a7e7-d6b11b5cb511)\n",
      "\n",
      "2022-05-18 12:01:05,926 - INFO - 0/10 [0.00%]: 01DWL@0 request was accepted\n",
      "\n",
      "2022-05-18 12:01:05,926 - DEBUG - 0/10 [0.00%]: 01DWL@0 requested to sell 1 to 03DWL@1 q: (1, 10), u: (8, 26), t: (1, 6)\n",
      "\n",
      "2022-05-18 12:01:05,926 - INFO - 0/10 [0.00%]: 01DWL@0 requested negotiation with ['01DWL@0', '03DWL@1'] (ID 9aa1b929-fadc-4658-bea9-04333a3e9fc7)\n",
      "\n",
      "2022-05-18 12:01:05,927 - INFO - 0/10 [0.00%]: 01DWL@0 request was accepted\n",
      "\n",
      "2022-05-18 12:01:05,927 - DEBUG - 0/10 [0.00%]: 01DWL@0 requested to sell 1 to 04DWL@1 q: (1, 10), u: (8, 26), t: (1, 6)\n",
      "\n",
      "2022-05-18 12:01:05,927 - INFO - 0/10 [0.00%]: 01DWL@0 requested negotiation with ['01DWL@0', '04DWL@1'] (ID fb1d7b9e-49fe-4fc8-b2e1-c94aad2a1106)\n",
      "\n",
      "2022-05-18 12:01:05,928 - INFO - 0/10 [0.00%]: 01DWL@0 request was accepted\n",
      "\n",
      "2022-05-18 12:01:05,928 - DEBUG - 0/10 [0.00%]: 01DWL@0 requested to sell 1 to 02DWL@1 q: (1, 10), u: (8, 26), t: (2, 7)\n",
      "\n"
     ]
    }
   ],
   "source": [
    "from pathlib import Path\n",
    "with open(Path.home() /\"negmas\" / \"logs\" / world.name / \"_agent_logs\" / \"00DWL@0.txt\", \"r\") as f:\n",
    "    [print(_) for _ in f.readlines()[:10]]"
   ]
  },
  {
   "cell_type": "markdown",
   "id": "private-diary",
   "metadata": {
    "papermill": {
     "duration": 0.003324,
     "end_time": "2022-05-18T03:01:06.600907",
     "exception": false,
     "start_time": "2022-05-18T03:01:06.597583",
     "status": "completed"
    },
    "tags": []
   },
   "source": [
    "The format is familiar with the same header information at every line plus the message (which can span multiple lines). \n",
    "\n",
    "SCML2020Agent class defines a property called **internal_state** which is just a `dict`. Several builtin strategies (e.g. TradningStrategy, NegotiationManager) log debugging information by just dumping this internal-state to file. You can hook into this mechanism by adding your own key-value pairs to the internal-state. An example can be seen in the `TradingStrategy` class. \n",
    "\n",
    "You do not need to use this internal-state mechanism. You can just use **logdebug_agent** for example to log information into your agent log file. \n"
   ]
  },
  {
   "cell_type": "markdown",
   "id": "settled-firewall",
   "metadata": {
    "papermill": {
     "duration": 0.003264,
     "end_time": "2022-05-18T03:01:06.607496",
     "exception": false,
     "start_time": "2022-05-18T03:01:06.604232",
     "status": "completed"
    },
    "tags": []
   },
   "source": [
    "### Controlling logging\n",
    "You can control several aspects of logging using **log_\\*** parameters of the world constructor. These parameters can also be passed to world generation method (**SCML2020World.generate**) and to all tournament creation functions (i.e. **anac2020std**, **anac2020collusion**, **tournament**, etc).\n",
    "\n",
    "This is a full list of these parameters:\n",
    "\n",
    "- **compact** If true, it will prevent all logs except errors among other optmizations to speedup the simulation and reduce the memory-footprint. Default is False when running a single world and True when running a tournament\n",
    "- **no_logs** If true, it stops all logging. It overrides everything else. Default is False\n",
    "- **log_folder** Gives a folder to save the logs (default is ~/negmas/logs). Note that -- by default -- that is alse where all statistics are saved.\n",
    "- **log_to_file**: If false, will disable the system log (but not agent logs). Default is True\n",
    "- **log_file_name**: Name of the system log file. By default it is \"log.txt\"\n",
    "- **event_file_name**: Name of the a file to store events (structured logs) to. By default it is \"events.json\"\n",
    "- **log_file_level**: The minimum log-level to save to file (WARNING, ERROR, INFO, DEBUG, CRITICAL, ...). Default is DEGUG to save everything\n",
    "- **log_ufuns**: Log utility functions. If True, all utility functions will be saved to a folder inside the *log_folder* (experimental and extremely slow). Default is False\n",
    "- **log_negotiations**: Log all negotiation events (e.g. all exchagned offers and counter offers). This will slow down the simulation and increase the memory-footprint considerably if enabled. Default is False.\n",
    "- **log_to_screen**: If True, some logs (controlled by `log_screen_level` ) will be printed to the screen. Default is False.\n",
    "- **log_screen_level**: The log-level to show on screen (WARNING, ERROR, INFO, DEBUG, CRITICAL, ...) if `log_to_screen` is True. Default is ERROR.\n",
    "- **log_stats_every**: If nonzero and positive, the period of saving statistics to the `log_folder`. Default is zero leading to no auto-saving of statistics.\n",
    "- **construct_graphs**: If true, information needed to draw graphs using `draw` method are kept. Default is False.\n",
    "\n",
    "Let's try changing some of these:\n"
   ]
  },
  {
   "cell_type": "code",
   "execution_count": 12,
   "id": "residential-capitol",
   "metadata": {
    "execution": {
     "iopub.execute_input": "2022-05-18T03:01:06.614553Z",
     "iopub.status.busy": "2022-05-18T03:01:06.614467Z",
     "iopub.status.idle": "2022-05-18T03:01:06.790069Z",
     "shell.execute_reply": "2022-05-18T03:01:06.789624Z"
    },
    "papermill": {
     "duration": 0.18036,
     "end_time": "2022-05-18T03:01:06.791151",
     "exception": false,
     "start_time": "2022-05-18T03:01:06.610791",
     "status": "completed"
    },
    "tags": []
   },
   "outputs": [],
   "source": [
    "!rm -r ~/negmas/logs/test_world"
   ]
  },
  {
   "cell_type": "code",
   "execution_count": 13,
   "id": "loved-looking",
   "metadata": {
    "execution": {
     "iopub.execute_input": "2022-05-18T03:01:06.799556Z",
     "iopub.status.busy": "2022-05-18T03:01:06.799434Z",
     "iopub.status.idle": "2022-05-18T03:01:07.638296Z",
     "shell.execute_reply": "2022-05-18T03:01:07.638010Z"
    },
    "papermill": {
     "duration": 0.844354,
     "end_time": "2022-05-18T03:01:07.639376",
     "exception": false,
     "start_time": "2022-05-18T03:01:06.795022",
     "status": "completed"
    },
    "tags": []
   },
   "outputs": [],
   "source": [
    "SCML2020World(\n",
    "    **SCML2020World.generate(\n",
    "        agent_types=[DecentralizingAgentWithLogging], \n",
    "        n_steps=10, \n",
    "        n_processes=2,   \n",
    "        name=\"test_world\",\n",
    "        log_stats_every=2,\n",
    "    )\n",
    ").run()"
   ]
  },
  {
   "cell_type": "code",
   "execution_count": 14,
   "id": "bridal-kitty",
   "metadata": {
    "execution": {
     "iopub.execute_input": "2022-05-18T03:01:07.646958Z",
     "iopub.status.busy": "2022-05-18T03:01:07.646866Z",
     "iopub.status.idle": "2022-05-18T03:01:07.820076Z",
     "shell.execute_reply": "2022-05-18T03:01:07.819749Z"
    },
    "papermill": {
     "duration": 0.178241,
     "end_time": "2022-05-18T03:01:07.821255",
     "exception": false,
     "start_time": "2022-05-18T03:01:07.643014",
     "status": "completed"
    },
    "scrolled": true,
    "tags": []
   },
   "outputs": [
    {
     "name": "stdout",
     "output_type": "stream",
     "text": [
      "\u001b[01;34m/Users/yasser/negmas/logs/test_world\u001b[0m\r\n",
      "├── \u001b[01;34m_agent_logs\u001b[0m\r\n",
      "│   ├── \u001b[00m00DWL@0.txt\u001b[0m\r\n",
      "│   ├── \u001b[00m01DWL@0.txt\u001b[0m\r\n",
      "│   ├── \u001b[00m02DWL@1.txt\u001b[0m\r\n",
      "│   ├── \u001b[00m03DWL@1.txt\u001b[0m\r\n",
      "│   ├── \u001b[00m04DWL@1.txt\u001b[0m\r\n",
      "│   └── \u001b[00m05DWL@1.txt\u001b[0m\r\n",
      "├── \u001b[00magents.json\u001b[0m\r\n",
      "├── \u001b[00mbreaches.csv\u001b[0m\r\n",
      "├── \u001b[00mcontracts.csv\u001b[0m\r\n",
      "├── \u001b[00mevents.json\u001b[0m\r\n",
      "├── \u001b[00minfo.json\u001b[0m\r\n",
      "├── \u001b[00mnegotiations.csv\u001b[0m\r\n",
      "├── \u001b[00mparams.json\u001b[0m\r\n",
      "├── \u001b[00mstats.csv\u001b[0m\r\n",
      "└── \u001b[00mstats.csv.csv\u001b[0m\r\n",
      "\r\n",
      "1 directory, 15 files\r\n"
     ]
    }
   ],
   "source": [
    "!tree ~/negmas/logs/test_world"
   ]
  },
  {
   "cell_type": "markdown",
   "id": "announced-tuition",
   "metadata": {
    "papermill": {
     "duration": 0.003957,
     "end_time": "2022-05-18T03:01:07.829152",
     "exception": false,
     "start_time": "2022-05-18T03:01:07.825195",
     "status": "completed"
    },
    "tags": []
   },
   "source": [
    "Now we can see that many more files are created in the log folder. These files keep a wealth of information to understand what happened in this world.\n",
    "You can save the same files using negmas builtin `save_stats` method without needing to enable periodic saving using `log_stats_every`. Here is an example:\n"
   ]
  },
  {
   "cell_type": "code",
   "execution_count": 15,
   "id": "comparable-texas",
   "metadata": {
    "execution": {
     "iopub.execute_input": "2022-05-18T03:01:07.837339Z",
     "iopub.status.busy": "2022-05-18T03:01:07.837207Z",
     "iopub.status.idle": "2022-05-18T03:01:09.260869Z",
     "shell.execute_reply": "2022-05-18T03:01:09.260370Z"
    },
    "papermill": {
     "duration": 1.429303,
     "end_time": "2022-05-18T03:01:09.262157",
     "exception": false,
     "start_time": "2022-05-18T03:01:07.832854",
     "status": "completed"
    },
    "tags": []
   },
   "outputs": [
    {
     "name": "stdout",
     "output_type": "stream",
     "text": [
      "\u001b[01;34m/Users/yasser/negmas/logs/test_world\u001b[0m\r\n",
      "├── \u001b[01;34m_agent_logs\u001b[0m\r\n",
      "├── \u001b[00magents.json\u001b[0m\r\n",
      "├── \u001b[00mbreaches.csv\u001b[0m\r\n",
      "├── \u001b[00mcontracts.csv\u001b[0m\r\n",
      "├── \u001b[00mevents.json\u001b[0m\r\n",
      "├── \u001b[00minfo.json\u001b[0m\r\n",
      "├── \u001b[00mnegotiations.csv\u001b[0m\r\n",
      "├── \u001b[00mparams.json\u001b[0m\r\n",
      "├── \u001b[00mstats.csv\u001b[0m\r\n",
      "└── \u001b[00mstats.json\u001b[0m\r\n",
      "\r\n",
      "1 directory, 9 files\r\n"
     ]
    }
   ],
   "source": [
    "!rm -r ~/negmas/logs/test_world\n",
    "from negmas import save_stats\n",
    "world = SCML2020World(\n",
    "    **SCML2020World.generate(\n",
    "        agent_types=[DecentralizingAgent], \n",
    "        n_steps=10, \n",
    "        n_processes=2,   \n",
    "        name=\"test_world\"\n",
    "    )\n",
    ")\n",
    "world.run()\n",
    "save_stats(world, world.log_folder)\n",
    "!tree ~/negmas/logs/test_world"
   ]
  },
  {
   "cell_type": "markdown",
   "id": "fifteen-oliver",
   "metadata": {
    "papermill": {
     "duration": 0.003929,
     "end_time": "2022-05-18T03:01:09.270463",
     "exception": false,
     "start_time": "2022-05-18T03:01:09.266534",
     "status": "completed"
    },
    "tags": []
   },
   "source": [
    "## Getting infromation about a simulation\n",
    "\n",
    "Let's examine each of the files `save_stats` saves in your `log_folder` in turn:\n",
    "\n",
    "- **World information**\n",
    "\n",
    "    - **params.json** The parameters passed to the world constructor (SCML2020World.__init__).\n",
    "    - **info.json** Information about the world. You can pass extra information to be saved here while constructing the world through the **info** parameter of the contractor as a dictionary of key-value pairs (all keys must be strings). \n",
    "    - **stats.csv**/**stats.json** CSV and JSON versions of world statistics.\n",
    "\n",
    "\n",
    "- **Contracts and Negotiations**\n",
    "\n",
    "    - **negotiations.csv** Stores information about all the negotiations conducted during the simulation.\n",
    "    - **contracts.csv** Stores every contract concluded during the simulation.\n",
    "    - **breaches.csv** Stores information about every breach that occurred during the simulation.\n",
    "\n",
    "- **Detailed Events**\n",
    "  \n",
    "    - **events.json** A list of events in JSON format. Notice that you need to prepend it with open bracket and replace the last comma with closed pracket to get a well formatted JSON list\n"
   ]
  },
  {
   "cell_type": "markdown",
   "id": "planned-porcelain",
   "metadata": {
    "papermill": {
     "duration": 0.003887,
     "end_time": "2022-05-18T03:01:09.278444",
     "exception": false,
     "start_time": "2022-05-18T03:01:09.274557",
     "status": "completed"
    },
    "tags": []
   },
   "source": [
    "### World Information\n",
    "The system stores two types of information about the simulation: \n",
    "\n",
    "- Static information in *params.json* and *info.json*. This information does not change during the simulation (e.g. number of steps, agent types). You will find that *params.json* stores some other information that is not strictly static.\n",
    "- Dynamic information in *stats.csv* and *stats.json*. This includes world statistics, statistics for every agent and for every product.\n",
    "\n",
    "Let's check each of them in turn:\n",
    "\n",
    "#### params.json\n",
    "\n",
    "This is just a copy of all the paramters used to create the world. These are mostly not specific to SCML worlds.\n",
    "\n",
    "Here are some of the most important parameters stored in this file:\n",
    "\n",
    "| Key | Meaning |\n",
    "| --- | ------- |\n",
    "|  name  | The world name  |\n",
    "|  mechanisms  | Allowed mechanism types and their parameters  |\n",
    "|  compact  | Whether this is a compact run (see Logging Primer earlier)  |\n",
    "|  n_steps  | Number of simulated days.  |\n",
    "|  time_limit  | The total real-time allowed for the simulation  |\n",
    "|  neg_n_steps  | Maximum number of rounds per negotiation  |\n",
    "|  neg_quota_simulation  | Maximum number of negotiations that an agent can initiate during the whole simulation  |\n",
    "|  neg_quota_step  | Maximum number of of negotiations that an agent can initiate during a *single* day (simulation step)  |\n",
    "|  neg_step_time_limit  | The total real-time allowed for receiving a response from a negotiator   |\n",
    "|  neg_time_limit  | The total real-time allowed for a negotiation  |\n",
    "|  negotiation_speed  | The number of negotiation rounds in a single simulation step   |\n",
    "|  financial_reports_period     | The period between successive financial reports in steps|\n",
    "|  agent_unique_types  | A unique identifier of the agent type for every agent in the simulation  |\n",
    "|  exogenous_horizon  | The number of steps in advance within which exogenous contracts are revealed  |\n",
    "|  n_agent_exceptions  | Number of agent exceptions. These are the results of bugs in the agents most likely.  |\n",
    "|  n_negotiation_exceptions  | Number of exceptions that happened during negotiation. These are usually bugs in the negotiators/utility functions  |\n",
    "|  n_contract_exceptions  | Number of exceptions that happened during contract executions. Any number above zero here is a bug  |\n",
    "|  n_simulation_exceptions  | Number of exceptions everywhere else in the simulation. These are also bugs in the platform  |\n",
    "|  ignore_agent_exception     |\n",
    "|  ignore_contract_execution_exceptions    |\n",
    "|  ignore_negotiation_exceptions    |\n",
    "|  ignore_simulation_exceptions    |\n",
    "|  n_processes  | Number of processes in the world  |\n",
    "|  n_products  | Number of products in the world  |\n",
    "|  spot_discount  | Spot market parameter (See http://www.yasserm.com/scml/scml2020.pdf)  |\n",
    "|  spot_market_global_loss  | Spot market parameter (See http://www.yasserm.com/scml/scml2020.pdf)  |\n",
    "|  spot_multiplier  |Spot market parameter (See http://www.yasserm.com/scml/scml2020.pdf)  |\n",
    "|  trading_price_discount  | Trading price estimation parameter (See http://www.yasserm.com/scml/scml2020.pdf)  |\n",
    "|  consumers  | All consumers of every product  |\n",
    "|  suppliers  | All suppliers of every product  |\n",
    "|  publish_trading_prices  | Whether to make trading prices public information in the bulletin board |\n",
    "|  publish_exogenous_contract_summary  | Whether to make the summary for exogeonus contracts public information in the bulletin board |\n",
    "\n",
    "\n"
   ]
  },
  {
   "cell_type": "markdown",
   "id": "dimensional-spokesman",
   "metadata": {
    "papermill": {
     "duration": 0.003656,
     "end_time": "2022-05-18T03:01:09.285985",
     "exception": false,
     "start_time": "2022-05-18T03:01:09.282329",
     "status": "completed"
    },
    "tags": []
   },
   "source": [
    "You can check any of these parameters by loading the json file:"
   ]
  },
  {
   "cell_type": "markdown",
   "id": "unsigned-cyprus",
   "metadata": {
    "papermill": {
     "duration": 0.00686,
     "end_time": "2022-05-18T03:01:09.296651",
     "exception": false,
     "start_time": "2022-05-18T03:01:09.289791",
     "status": "completed"
    },
    "tags": []
   },
   "source": [
    "#### info.json\n",
    "\n",
    "All the information in this file is specific to SCML2020. This information describes all intermediate variables used during the creation of the world configuration (See http://www.yasserm.com/scml/scml2020.pdf Appendix B for details)."
   ]
  },
  {
   "cell_type": "markdown",
   "id": "changed-criterion",
   "metadata": {
    "papermill": {
     "duration": 0.003705,
     "end_time": "2022-05-18T03:01:09.304213",
     "exception": false,
     "start_time": "2022-05-18T03:01:09.300508",
     "status": "completed"
    },
    "tags": []
   },
   "source": [
    "#### stats.csv and stats.json\n",
    "\n",
    "These two files have the same information in json and csv forms and provides one record for each simulation step (day). The same information can be accessed in real-time using:\n",
    "\n",
    "```python\n",
    "world.stats\n",
    "world.stats_df\n",
    "```\n"
   ]
  },
  {
   "cell_type": "markdown",
   "id": "insured-birmingham",
   "metadata": {
    "papermill": {
     "duration": 0.003572,
     "end_time": "2022-05-18T03:01:09.311466",
     "exception": false,
     "start_time": "2022-05-18T03:01:09.307894",
     "status": "completed"
    },
    "tags": []
   },
   "source": [
    "They can be divided into three categories: world statistics, product statistics, and agent statistics.\n",
    "- World statistics reveal information about the state of the world after every simulation step. Names of these statistics are self-explanatory\n",
    "\n",
    "\n",
    "- Product statsitics all end with *_{p}* where *p* is the product number:\n",
    "\n",
    "    - **trading_price_{p}** The trading price of the product at the end of every simulation step.\n",
    "    - **sold_quantity_{p}** The quantity sold/bought of that product at every simulation step.\n",
    "    - **unit_price+{p}** The average unit price of the product at every simulation step (if its sold_quantity was nonzero).\n",
    "    \n",
    "    \n",
    "- Agent statsitics all end with *_{a}* (or have *_{a}* in the middle) where *a* is the agent ID:\n",
    "\n",
    "    - **balance_{a}** The balance of the agent.\n",
    "    - **inventory_{a}_input**  The number of units of the agent's input product currently available in its inventory\n",
    "    - **inventory_{a}_output** The number of units of the agent's output product currently available in its inventory \n",
    "    - **assets_{a}** The value of the agent's inventory.\n",
    "    - **score_{a}** The score of the agent which is a combination of its balance and assets value according to SCML2020 rules.\n",
    "    - **productivity_{a}** The fraction of production lines of the agent's factory that are active during every simulation step.\n",
    "    - **bankrupt_{a}** Whether the agent is bankrupt\n",
    "    - **spot_market_quantity_{a}** The quantity the agent bought from the spot market (of its output product).\n",
    "    - **spot_market_loss_{a}**  The personalized spot market loss of the agent."
   ]
  },
  {
   "cell_type": "markdown",
   "id": "approximate-norfolk",
   "metadata": {
    "papermill": {
     "duration": 0.003679,
     "end_time": "2022-05-18T03:01:09.318908",
     "exception": false,
     "start_time": "2022-05-18T03:01:09.315229",
     "status": "completed"
    },
    "tags": []
   },
   "source": [
    "### Contracts and Negotiations\n",
    "\n",
    "These files save information about every simulation, contract and breach. \n",
    "\n",
    "#### negotiations.csv\n",
    "\n",
    "This file stores a record for each negotiation. The most important fields are:\n",
    "\n",
    "- **partners**: Gives the names of the partners\n",
    "- **partner_ids** The IDs of the partners \n",
    "- **partner_types** The types of the agents to which the partners belong\n",
    "- **issues** Negotiation Issues\n",
    "- **caller** The name of the agent that initated the negotiation\n",
    "- **requested_at**: The time at which the negotiation was requested\n",
    "- **relative_time** The relative time (between zero and one) at which the negotiation ended\n",
    "- **has_errors**: Indicates whether one of the partners broke the protocol rules\n",
    "- **current_proposer**: The negotiator that sent the last offer \n",
    "- **current_offer** The last offer\n",
    "- **agreement** The agreement if any (or None if the negotiation ended with no agreement)\n",
    "- **step** The step at which the negotiation ended\n",
    "- **broken** Will be true if one partner ended the negotiation\n",
    "- **timedout** will be true if the negotiation timed out\n",
    "- **current_proposer_agent** The agent to which the `current_proposer` negotiator belongs\n",
    "- **new_offers** The offers exchanged in the last negotiation round\n",
    "- **new_offer_agents** The agents generating the offers exchanged in the last round\n"
   ]
  },
  {
   "cell_type": "markdown",
   "id": "advance-liberty",
   "metadata": {
    "papermill": {
     "duration": 0.003522,
     "end_time": "2022-05-18T03:01:09.326016",
     "exception": false,
     "start_time": "2022-05-18T03:01:09.322494",
     "status": "completed"
    },
    "tags": []
   },
   "source": [
    "#### contracts.csv\n",
    "\n",
    "This file has a record for every contract negotiated (as well as exogenous contracts). `signed_contracts.csv` and `cancelled_contracts.csv` have a subset of these records with signed and cancelled contracts only respectively. These are all the fields stored for every contract:\n",
    "\n",
    "\n",
    "Partner information:\n",
    "\n",
    "- **product**, **product_name**: The product index and name \n",
    "- **seller**, **seller_name**, **seller_type**: Seller ID, name, and type\n",
    "- **seller**, **buyer_name**, **buyer_type**: Buyer ID, name and type\n",
    "\n",
    "Agenda:\n",
    "\n",
    "- **caller**: Who requested the negotiation\n",
    "- **issues**: Negotiation issues\n",
    "- **is_buy**\n",
    "\n",
    "Agreement (will be `nan` if there is no agreement) \n",
    "\n",
    "- **delivery_time**\n",
    "- **quantity**\n",
    "- **unit_price**\n",
    "\n",
    "Contract Life (-1 means the event did not happen):\n",
    "\n",
    "- **concluded_at**: when was the negotiation leadign to this contract concluded\n",
    "- **signed_at**: when was the contract signed\n",
    "- **executed_at**: when was it executed (will be the same as *delivery_time*\n",
    "- **nullified_at**: If nulliied due to bankruptcy of one of the partners, when\n",
    "- **erred_at**: Should never happen.\n",
    "- **dropped_at**: The system will drop all contract that have delivery times in the past or at a day by the end of that day\n",
    "\n",
    "Other Information:\n",
    "\n",
    "- **id**: The unique ID of this contract\n",
    "- **signatures**: Will be the IDs of the two partners if the contract was signed\n",
    "- **n_neg_steps**: Number of negotaition steps that lead to this contract\n",
    "- **breaches**: List of breaches if any\n"
   ]
  },
  {
   "cell_type": "markdown",
   "id": "eight-evanescence",
   "metadata": {
    "papermill": {
     "duration": 0.003317,
     "end_time": "2022-05-18T03:01:09.332755",
     "exception": false,
     "start_time": "2022-05-18T03:01:09.329438",
     "status": "completed"
    },
    "tags": []
   },
   "source": [
    "#### breaches.csv\n",
    "\n",
    "Saves information about all breaches (will always be empty in SCML-OneShot simulations):\n",
    "\n",
    "- **id** A unique ID for this breach\n",
    "- **contract**, **contract_id** The contract that was breached\n",
    "- **type** The breach type (inventory or funds)\n",
    "- **level** The breach level (a number between zero and one)\n",
    "- **perpetrator**, **perpetrator_type** The ID and name of the agent that committed the breach\n",
    "- **victims** Will always be a single string giving the ID of the victim\n",
    "- **step** The step at which the breach happens\n",
    "- **resolved** Will always be false in SCML2020"
   ]
  },
  {
   "cell_type": "code",
   "execution_count": null,
   "id": "flying-arkansas",
   "metadata": {
    "papermill": {
     "duration": 0.003399,
     "end_time": "2022-05-18T03:01:09.339511",
     "exception": false,
     "start_time": "2022-05-18T03:01:09.336112",
     "status": "completed"
    },
    "tags": []
   },
   "outputs": [],
   "source": []
  },
  {
   "cell_type": "code",
   "execution_count": null,
   "id": "hazardous-valuable",
   "metadata": {
    "papermill": {
     "duration": 0.003263,
     "end_time": "2022-05-18T03:01:09.346156",
     "exception": false,
     "start_time": "2022-05-18T03:01:09.342893",
     "status": "completed"
    },
    "tags": []
   },
   "outputs": [],
   "source": []
  }
 ],
 "metadata": {
  "celltoolbar": "Tags",
  "kernelspec": {
   "display_name": "Python 3",
   "language": "python",
   "name": "python3"
  },
  "language_info": {
   "codemirror_mode": {
    "name": "ipython",
    "version": 3
   },
   "file_extension": ".py",
   "mimetype": "text/x-python",
   "name": "python",
   "nbconvert_exporter": "python",
   "pygments_lexer": "ipython3",
   "version": "3.10.4"
  },
  "papermill": {
   "default_parameters": {},
   "duration": 9.112943,
   "end_time": "2022-05-18T03:01:11.967217",
   "environment_variables": {},
   "exception": null,
   "input_path": "/Users/yasser/code/projects/scml/notebooks/tutorials/05.logs_and_stats.ipynb",
   "output_path": "/Users/yasser/code/projects/scml/tests/tmp_notebooks/tutorials/05.logs_and_stats.ipynb",
   "parameters": {},
   "start_time": "2022-05-18T03:01:02.854274",
   "version": "2.3.4"
  },
  "toc": {
   "base_numbering": 1,
   "nav_menu": {},
   "number_sections": true,
   "sideBar": true,
   "skip_h1_title": false,
   "title_cell": "Table of Contents",
   "title_sidebar": "Contents",
   "toc_cell": false,
   "toc_position": {},
   "toc_section_display": true,
   "toc_window_display": false
  },
  "widgets": {
   "application/vnd.jupyter.widget-state+json": {
    "state": {
     "2abe08fac5e24db7b34a30457e4ba2fc": {
      "model_module": "@jupyter-widgets/controls",
      "model_module_version": "1.5.0",
      "model_name": "DescriptionStyleModel",
      "state": {
       "_model_module": "@jupyter-widgets/controls",
       "_model_module_version": "1.5.0",
       "_model_name": "DescriptionStyleModel",
       "_view_count": null,
       "_view_module": "@jupyter-widgets/base",
       "_view_module_version": "1.2.0",
       "_view_name": "StyleView",
       "description_width": ""
      }
     },
     "408d3943fc5b414d815bd83e8c281428": {
      "model_module": "@jupyter-widgets/controls",
      "model_module_version": "1.5.0",
      "model_name": "HTMLModel",
      "state": {
       "_dom_classes": [],
       "_model_module": "@jupyter-widgets/controls",
       "_model_module_version": "1.5.0",
       "_model_name": "HTMLModel",
       "_view_count": null,
       "_view_module": "@jupyter-widgets/controls",
       "_view_module_version": "1.5.0",
       "_view_name": "HTMLView",
       "description": "",
       "description_tooltip": null,
       "layout": "IPY_MODEL_fef1cdf6eac7445fae6ad927576979af",
       "placeholder": "​",
       "style": "IPY_MODEL_2abe08fac5e24db7b34a30457e4ba2fc",
       "value": ""
      }
     },
     "4c3c220cfe0e4231b23317942da9e8ff": {
      "model_module": "@jupyter-widgets/base",
      "model_module_version": "1.2.0",
      "model_name": "LayoutModel",
      "state": {
       "_model_module": "@jupyter-widgets/base",
       "_model_module_version": "1.2.0",
       "_model_name": "LayoutModel",
       "_view_count": null,
       "_view_module": "@jupyter-widgets/base",
       "_view_module_version": "1.2.0",
       "_view_name": "LayoutView",
       "align_content": null,
       "align_items": null,
       "align_self": null,
       "border": null,
       "bottom": null,
       "display": null,
       "flex": null,
       "flex_flow": null,
       "grid_area": null,
       "grid_auto_columns": null,
       "grid_auto_flow": null,
       "grid_auto_rows": null,
       "grid_column": null,
       "grid_gap": null,
       "grid_row": null,
       "grid_template_areas": null,
       "grid_template_columns": null,
       "grid_template_rows": null,
       "height": null,
       "justify_content": null,
       "justify_items": null,
       "left": null,
       "margin": null,
       "max_height": null,
       "max_width": null,
       "min_height": null,
       "min_width": null,
       "object_fit": null,
       "object_position": null,
       "order": null,
       "overflow": null,
       "overflow_x": null,
       "overflow_y": null,
       "padding": null,
       "right": null,
       "top": null,
       "visibility": null,
       "width": null
      }
     },
     "55a35f39999b4aa3ace1ac9f13ead78e": {
      "model_module": "@jupyter-widgets/controls",
      "model_module_version": "1.5.0",
      "model_name": "DescriptionStyleModel",
      "state": {
       "_model_module": "@jupyter-widgets/controls",
       "_model_module_version": "1.5.0",
       "_model_name": "DescriptionStyleModel",
       "_view_count": null,
       "_view_module": "@jupyter-widgets/base",
       "_view_module_version": "1.2.0",
       "_view_name": "StyleView",
       "description_width": ""
      }
     },
     "5ba2c3951c3a43eba4ed9e0ef4aade07": {
      "model_module": "@jupyter-widgets/controls",
      "model_module_version": "1.5.0",
      "model_name": "HBoxModel",
      "state": {
       "_dom_classes": [],
       "_model_module": "@jupyter-widgets/controls",
       "_model_module_version": "1.5.0",
       "_model_name": "HBoxModel",
       "_view_count": null,
       "_view_module": "@jupyter-widgets/controls",
       "_view_module_version": "1.5.0",
       "_view_name": "HBoxView",
       "box_style": "",
       "children": [
        "IPY_MODEL_408d3943fc5b414d815bd83e8c281428",
        "IPY_MODEL_a51a44385642438a9ddd7078a86e1945",
        "IPY_MODEL_96872cc72c984b2fbe9b9b7a13eccc54"
       ],
       "layout": "IPY_MODEL_a67e18867bfd4433ae00aacc64b9c4fb"
      }
     },
     "7692660e12df46cf91d40338b574b155": {
      "model_module": "@jupyter-widgets/base",
      "model_module_version": "1.2.0",
      "model_name": "LayoutModel",
      "state": {
       "_model_module": "@jupyter-widgets/base",
       "_model_module_version": "1.2.0",
       "_model_name": "LayoutModel",
       "_view_count": null,
       "_view_module": "@jupyter-widgets/base",
       "_view_module_version": "1.2.0",
       "_view_name": "LayoutView",
       "align_content": null,
       "align_items": null,
       "align_self": null,
       "border": null,
       "bottom": null,
       "display": null,
       "flex": null,
       "flex_flow": null,
       "grid_area": null,
       "grid_auto_columns": null,
       "grid_auto_flow": null,
       "grid_auto_rows": null,
       "grid_column": null,
       "grid_gap": null,
       "grid_row": null,
       "grid_template_areas": null,
       "grid_template_columns": null,
       "grid_template_rows": null,
       "height": null,
       "justify_content": null,
       "justify_items": null,
       "left": null,
       "margin": null,
       "max_height": null,
       "max_width": null,
       "min_height": null,
       "min_width": null,
       "object_fit": null,
       "object_position": null,
       "order": null,
       "overflow": null,
       "overflow_x": null,
       "overflow_y": null,
       "padding": null,
       "right": null,
       "top": null,
       "visibility": null,
       "width": "20px"
      }
     },
     "96872cc72c984b2fbe9b9b7a13eccc54": {
      "model_module": "@jupyter-widgets/controls",
      "model_module_version": "1.5.0",
      "model_name": "HTMLModel",
      "state": {
       "_dom_classes": [],
       "_model_module": "@jupyter-widgets/controls",
       "_model_module_version": "1.5.0",
       "_model_name": "HTMLModel",
       "_view_count": null,
       "_view_module": "@jupyter-widgets/controls",
       "_view_module_version": "1.5.0",
       "_view_name": "HTMLView",
       "description": "",
       "description_tooltip": null,
       "layout": "IPY_MODEL_4c3c220cfe0e4231b23317942da9e8ff",
       "placeholder": "​",
       "style": "IPY_MODEL_55a35f39999b4aa3ace1ac9f13ead78e",
       "value": " 0/? [00:00&lt;?, ?it/s]"
      }
     },
     "a51a44385642438a9ddd7078a86e1945": {
      "model_module": "@jupyter-widgets/controls",
      "model_module_version": "1.5.0",
      "model_name": "FloatProgressModel",
      "state": {
       "_dom_classes": [],
       "_model_module": "@jupyter-widgets/controls",
       "_model_module_version": "1.5.0",
       "_model_name": "FloatProgressModel",
       "_view_count": null,
       "_view_module": "@jupyter-widgets/controls",
       "_view_module_version": "1.5.0",
       "_view_name": "ProgressView",
       "bar_style": "success",
       "description": "",
       "description_tooltip": null,
       "layout": "IPY_MODEL_7692660e12df46cf91d40338b574b155",
       "max": 1.0,
       "min": 0.0,
       "orientation": "horizontal",
       "style": "IPY_MODEL_bb20178878904a2e95606c6faef6fee9",
       "value": 0.0
      }
     },
     "a67e18867bfd4433ae00aacc64b9c4fb": {
      "model_module": "@jupyter-widgets/base",
      "model_module_version": "1.2.0",
      "model_name": "LayoutModel",
      "state": {
       "_model_module": "@jupyter-widgets/base",
       "_model_module_version": "1.2.0",
       "_model_name": "LayoutModel",
       "_view_count": null,
       "_view_module": "@jupyter-widgets/base",
       "_view_module_version": "1.2.0",
       "_view_name": "LayoutView",
       "align_content": null,
       "align_items": null,
       "align_self": null,
       "border": null,
       "bottom": null,
       "display": null,
       "flex": null,
       "flex_flow": null,
       "grid_area": null,
       "grid_auto_columns": null,
       "grid_auto_flow": null,
       "grid_auto_rows": null,
       "grid_column": null,
       "grid_gap": null,
       "grid_row": null,
       "grid_template_areas": null,
       "grid_template_columns": null,
       "grid_template_rows": null,
       "height": null,
       "justify_content": null,
       "justify_items": null,
       "left": null,
       "margin": null,
       "max_height": null,
       "max_width": null,
       "min_height": null,
       "min_width": null,
       "object_fit": null,
       "object_position": null,
       "order": null,
       "overflow": null,
       "overflow_x": null,
       "overflow_y": null,
       "padding": null,
       "right": null,
       "top": null,
       "visibility": null,
       "width": null
      }
     },
     "bb20178878904a2e95606c6faef6fee9": {
      "model_module": "@jupyter-widgets/controls",
      "model_module_version": "1.5.0",
      "model_name": "ProgressStyleModel",
      "state": {
       "_model_module": "@jupyter-widgets/controls",
       "_model_module_version": "1.5.0",
       "_model_name": "ProgressStyleModel",
       "_view_count": null,
       "_view_module": "@jupyter-widgets/base",
       "_view_module_version": "1.2.0",
       "_view_name": "StyleView",
       "bar_color": null,
       "description_width": ""
      }
     },
     "fef1cdf6eac7445fae6ad927576979af": {
      "model_module": "@jupyter-widgets/base",
      "model_module_version": "1.2.0",
      "model_name": "LayoutModel",
      "state": {
       "_model_module": "@jupyter-widgets/base",
       "_model_module_version": "1.2.0",
       "_model_name": "LayoutModel",
       "_view_count": null,
       "_view_module": "@jupyter-widgets/base",
       "_view_module_version": "1.2.0",
       "_view_name": "LayoutView",
       "align_content": null,
       "align_items": null,
       "align_self": null,
       "border": null,
       "bottom": null,
       "display": null,
       "flex": null,
       "flex_flow": null,
       "grid_area": null,
       "grid_auto_columns": null,
       "grid_auto_flow": null,
       "grid_auto_rows": null,
       "grid_column": null,
       "grid_gap": null,
       "grid_row": null,
       "grid_template_areas": null,
       "grid_template_columns": null,
       "grid_template_rows": null,
       "height": null,
       "justify_content": null,
       "justify_items": null,
       "left": null,
       "margin": null,
       "max_height": null,
       "max_width": null,
       "min_height": null,
       "min_width": null,
       "object_fit": null,
       "object_position": null,
       "order": null,
       "overflow": null,
       "overflow_x": null,
       "overflow_y": null,
       "padding": null,
       "right": null,
       "top": null,
       "visibility": null,
       "width": null
      }
     }
    },
    "version_major": 2,
    "version_minor": 0
   }
  }
 },
 "nbformat": 4,
 "nbformat_minor": 5
}