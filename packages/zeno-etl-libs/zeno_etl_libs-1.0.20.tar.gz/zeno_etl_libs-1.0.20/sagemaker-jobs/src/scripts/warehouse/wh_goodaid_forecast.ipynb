{
 "cells": [
  {
   "cell_type": "code",
   "execution_count": 3,
   "id": "333f7a82-be9c-4423-a493-5f56074850ff",
   "metadata": {
    "tags": [
     "parameters"
    ]
   },
   "outputs": [],
   "source": [
    "f_name = \"Viv\"\n",
    "l_name = \"Sidagam\""
   ]
  },
  {
   "cell_type": "code",
   "execution_count": 4,
   "id": "2deab218-ef7c-431e-a549-8d1d21628ed7",
   "metadata": {},
   "outputs": [
    {
     "name": "stdout",
     "output_type": "stream",
     "text": [
      "Hello Viv Sidagam, How are you !\n"
     ]
    }
   ],
   "source": [
    "print(f\"Hello {f_name} {l_name}, How are you !\")"
   ]
  },
  {
   "cell_type": "code",
   "execution_count": null,
   "id": "68b38ea9-60a9-4b6b-8ff9-0707d5173360",
   "metadata": {},
   "outputs": [],
   "source": []
  }
 ],
 "metadata": {
  "kernelspec": {
   "display_name": "Python 3 (ipykernel)",
   "language": "python",
   "name": "python3"
  },
  "language_info": {
   "codemirror_mode": {
    "name": "ipython",
    "version": 3
   },
   "file_extension": ".py",
   "mimetype": "text/x-python",
   "name": "python",
   "nbconvert_exporter": "python",
   "pygments_lexer": "ipython3",
   "version": "3.10.4"
  }
 },
 "nbformat": 4,
 "nbformat_minor": 5
}
