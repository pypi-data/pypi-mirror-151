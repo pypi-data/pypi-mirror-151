{
 "cells": [
  {
   "cell_type": "code",
   "execution_count": 1,
   "id": "1e52cf73-acd0-4973-914b-2a14a33cba74",
   "metadata": {},
   "outputs": [],
   "source": [
    "\"\"\"main wrapper for IPC safety stock reset\"\"\"\n",
    "import sys\n",
    "import datetime\n",
    "import time\n",
    "import re\n",
    "import os"
   ]
  },
  {
   "cell_type": "code",
   "execution_count": 2,
   "id": "9263ecc3-e726-4f14-bad1-69c468dbbcfd",
   "metadata": {},
   "outputs": [],
   "source": [
    "# To add path so that we can improt zeno_etl_libs from local folder\n",
    "sys.path.append('../../../..')"
   ]
  },
  {
   "cell_type": "code",
   "execution_count": 3,
   "id": "f3777bed-f191-4d5d-9b6d-bfbfa9af162f",
   "metadata": {},
   "outputs": [],
   "source": [
    "from zeno_etl_libs.helper.run_notebook import run_notebook"
   ]
  },
  {
   "cell_type": "code",
   "execution_count": 4,
   "id": "967b79bd-db31-445d-bfdc-4cb664a9419e",
   "metadata": {},
   "outputs": [],
   "source": [
    "base = \"/\".join(os.getcwd().split(\"/\")[:-2])"
   ]
  },
  {
   "cell_type": "code",
   "execution_count": 5,
   "id": "5d16f837-0283-48a6-8730-9d84b5499276",
   "metadata": {},
   "outputs": [],
   "source": [
    "output_path = base + \"/run/logs\""
   ]
  },
  {
   "cell_type": "code",
   "execution_count": 7,
   "id": "f2155d94-1f7f-471e-9519-24a917c0891f",
   "metadata": {},
   "outputs": [
    {
     "data": {
      "text/plain": [
       "'./distributor_ranking_main-2022-05-23-11-23-00.ipynb'"
      ]
     },
     "execution_count": 7,
     "metadata": {},
     "output_type": "execute_result"
    }
   ],
   "source": [
    "run_notebook.download_notebook(job_name=\"prod-distributor-ranking-main-2022-05-23-11-23-00\")"
   ]
  },
  {
   "cell_type": "code",
   "execution_count": 9,
   "id": "ab7292d7-bdce-46b8-b775-4ba878783ec9",
   "metadata": {},
   "outputs": [],
   "source": [
    "x = \"\"\"\n",
    "(\n",
    "select iaxc2.store_id , iaxc2.drug_id , concat(bucket_abc, bucket_xyz) as bucket, iaxc2.reset_date \n",
    "from (select store_id, max(reset_date) as reset_date\n",
    "\t\tfrom ipc_abc_xyz_class iaxc\n",
    "\t\twhere store_id = 2\n",
    "\t\tgroup by store_id ) as latest_reset\n",
    "inner join ipc_abc_xyz_class iaxc2\n",
    "on iaxc2.store_id = latest_reset.store_id\n",
    "and iaxc2.reset_date = latest_reset.reset_date\n",
    ")\n",
    "union \n",
    "(\n",
    "select niaxc2.store_id , niaxc2.drug_id , concat(bucket_abc, bucket_xyz) as bucket, niaxc2.reset_date \n",
    "from (select store_id, max(reset_date) as reset_date\n",
    "\t\tfrom non_ipc_abc_xyz_class niaxc\n",
    "\t\twhere store_id = 2\n",
    "\t\tand store_id not in (select distinct store_id from ipc_abc_xyz_class iaxc3)\n",
    "\t\tgroup by store_id ) as latest_reset\n",
    "inner join non_ipc_abc_xyz_class niaxc2\n",
    "on niaxc2.store_id = latest_reset.store_id\n",
    "and niaxc2.reset_date = latest_reset.reset_date\n",
    ")\n",
    "\"\"\".replace(\"_\", \"-\")"
   ]
  },
  {
   "cell_type": "code",
   "execution_count": 10,
   "id": "d8de4f62-b014-40b6-8c39-a3f43ba48af9",
   "metadata": {},
   "outputs": [
    {
     "name": "stdout",
     "output_type": "stream",
     "text": [
      "\n",
      "(\n",
      "select iaxc2.store-id , iaxc2.drug-id , concat(bucket-abc, bucket-xyz) as bucket, iaxc2.reset-date \n",
      "from (select store-id, max(reset-date) as reset-date\n",
      "\t\tfrom ipc-abc-xyz-class iaxc\n",
      "\t\twhere store-id = 2\n",
      "\t\tgroup by store-id ) as latest-reset\n",
      "inner join ipc-abc-xyz-class iaxc2\n",
      "on iaxc2.store-id = latest-reset.store-id\n",
      "and iaxc2.reset-date = latest-reset.reset-date\n",
      ")\n",
      "union \n",
      "(\n",
      "select niaxc2.store-id , niaxc2.drug-id , concat(bucket-abc, bucket-xyz) as bucket, niaxc2.reset-date \n",
      "from (select store-id, max(reset-date) as reset-date\n",
      "\t\tfrom non-ipc-abc-xyz-class niaxc\n",
      "\t\twhere store-id = 2\n",
      "\t\tand store-id not in (select distinct store-id from ipc-abc-xyz-class iaxc3)\n",
      "\t\tgroup by store-id ) as latest-reset\n",
      "inner join non-ipc-abc-xyz-class niaxc2\n",
      "on niaxc2.store-id = latest-reset.store-id\n",
      "and niaxc2.reset-date = latest-reset.reset-date\n",
      ")\n",
      "\n"
     ]
    }
   ],
   "source": [
    "print(x)"
   ]
  },
  {
   "cell_type": "code",
   "execution_count": null,
   "id": "fb2ff399-9056-42a6-b919-de96c5330f87",
   "metadata": {},
   "outputs": [],
   "source": []
  }
 ],
 "metadata": {
  "kernelspec": {
   "display_name": "Python 3 (ipykernel)",
   "language": "python",
   "name": "python3"
  },
  "language_info": {
   "codemirror_mode": {
    "name": "ipython",
    "version": 3
   },
   "file_extension": ".py",
   "mimetype": "text/x-python",
   "name": "python",
   "nbconvert_exporter": "python",
   "pygments_lexer": "ipython3",
   "version": "3.8.13"
  }
 },
 "nbformat": 4,
 "nbformat_minor": 5
}
