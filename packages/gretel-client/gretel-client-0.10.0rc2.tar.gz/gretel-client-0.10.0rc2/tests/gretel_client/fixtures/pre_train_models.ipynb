{
 "cells": [
  {
   "cell_type": "code",
   "execution_count": null,
   "metadata": {},
   "outputs": [],
   "source": [
    "import os\n",
    "import json\n",
    "from pathlib import Path\n",
    "\n",
    "from gretel_client.projects import get_project, search_projects, models, Project"
   ]
  },
  {
   "cell_type": "code",
   "execution_count": null,
   "metadata": {},
   "outputs": [],
   "source": [
    "PRE_TRAIN_PROJECT = \"gretel-client-project-pretrained\"\n",
    "\n",
    "FIXTURES = Path().resolve()\n",
    "\n",
    "FIXTURES\n"
   ]
  },
  {
   "cell_type": "code",
   "execution_count": null,
   "metadata": {},
   "outputs": [],
   "source": [
    "project = get_project(name=PRE_TRAIN_PROJECT)\n",
    "\n",
    "project.name"
   ]
  },
  {
   "cell_type": "code",
   "execution_count": null,
   "metadata": {},
   "outputs": [],
   "source": [
    "def poll(model):\n",
    "    for update in model.poll_logs_status():\n",
    "        if update.transitioned:\n",
    "            print(f\"Status is {update.status}\")\n",
    "        for log in update.logs:\n",
    "            msg = f\"{log['ts']}  {log['msg']}\"\n",
    "            if log[\"ctx\"]:\n",
    "                msg += f\"\\n{json.dumps(log['ctx'], indent=4)}\"\n",
    "            print(msg)\n",
    "        if update.error:\n",
    "            print(f\"\\t{update.error}\")"
   ]
  },
  {
   "cell_type": "code",
   "execution_count": null,
   "metadata": {},
   "outputs": [],
   "source": [
    "def build_synth_model(project: Project):\n",
    "    model = project.create_model_obj(model_config=\"synthetics/default\")\n",
    "    model.data_source = str(FIXTURES / \"us-adult-income.csv\")\n",
    "    model.submit(runner_mode=models.RunnerMode.CLOUD, upload_data_source=True)\n",
    "    poll(model)\n",
    "    return model\n",
    "\n",
    "syn_model = build_synth_model(project)  # 626ab963f7098ebecbb623b2\n",
    "syn_model.model_id"
   ]
  },
  {
   "cell_type": "code",
   "execution_count": null,
   "metadata": {},
   "outputs": [],
   "source": [
    "def build_xf_model(project: Project):\n",
    "    model = project.create_model_obj(model_config=FIXTURES / \"transforms_config.yml\")\n",
    "    model.data_source = str(FIXTURES / \"account-balances.csv\")\n",
    "    model.submit(runner_mode=models.RunnerMode.CLOUD, upload_data_source=True)\n",
    "    poll(model)\n",
    "    return model\n",
    "\n",
    "xf_model = build_xf_model(project)  # 626abd19f7098ebecbb623d9\n",
    "xf_model.model_id"
   ]
  },
  {
   "cell_type": "code",
   "execution_count": null,
   "metadata": {},
   "outputs": [],
   "source": [
    "def build_classify_model(project: Project):\n",
    "    model = project.create_model_obj(model_config=FIXTURES / \"classify_config.yml\")\n",
    "    model.data_source = str(FIXTURES / \"account-balances.csv\")\n",
    "    model.submit(runner_mode=models.RunnerMode.CLOUD, upload_data_source=True)\n",
    "    poll(model)\n",
    "    return model\n",
    "\n",
    "classify_model = build_classify_model(project)  # 626abd2ff7098ebecbb623da\n",
    "classify_model.model_id"
   ]
  },
  {
   "cell_type": "code",
   "execution_count": null,
   "metadata": {},
   "outputs": [],
   "source": []
  }
 ],
 "metadata": {
  "kernelspec": {
   "display_name": "Python 3",
   "language": "python",
   "name": "python3"
  },
  "language_info": {
   "codemirror_mode": {
    "name": "ipython",
    "version": 3
   },
   "file_extension": ".py",
   "mimetype": "text/x-python",
   "name": "python",
   "nbconvert_exporter": "python",
   "pygments_lexer": "ipython3",
   "version": "3.7.9"
  }
 },
 "nbformat": 4,
 "nbformat_minor": 2
}
