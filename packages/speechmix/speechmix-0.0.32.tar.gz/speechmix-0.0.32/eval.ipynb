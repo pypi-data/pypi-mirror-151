{
 "cells": [
  {
   "cell_type": "code",
   "execution_count": null,
   "id": "dddb6472-79dd-4074-be22-08930a5d4fc0",
   "metadata": {},
   "outputs": [],
   "source": [
    "from speechmix import SpeechMixEED\n",
    "from datasets import load_dataset\n",
    "import torch"
   ]
  },
  {
   "cell_type": "code",
   "execution_count": null,
   "id": "6f7c956a-dbc7-4625-bf01-c78f5a0f1fcc",
   "metadata": {},
   "outputs": [],
   "source": [
    "!wget https://huggingface.co/voidful/speechmix_eed_fixed/resolve/main/pytorch_model.bin"
   ]
  },
  {
   "cell_type": "code",
   "execution_count": null,
   "id": "6dc4e5dc-a2c7-4aff-828e-57a0342c915f",
   "metadata": {
    "pycharm": {
     "is_executing": true
    }
   },
   "outputs": [],
   "source": [
    "seed = SpeechMixEED('wav2vec2','facebook/bart-base',share_layer_ratio=0.4, down_scale=8)"
   ]
  },
  {
   "cell_type": "code",
   "execution_count": null,
   "id": "859f15fb-f7fd-4aa9-9b8b-c91cc1e87406",
   "metadata": {
    "tags": []
   },
   "outputs": [],
   "source": [
    "seed.load_state_dict(torch.load('./pytorch_model.bin'))\n",
    "seed.eval()"
   ]
  },
  {
   "cell_type": "code",
   "execution_count": null,
   "id": "151a14bb-cc0a-4686-8ab0-fb7f5d08d62c",
   "metadata": {
    "tags": [],
    "pycharm": {
     "is_executing": true
    }
   },
   "outputs": [],
   "source": [
    "ds = load_dataset(\"patrickvonplaten/librispeech_asr_dummy\", \"clean\", split=\"validation\")"
   ]
  },
  {
   "cell_type": "code",
   "execution_count": 7,
   "id": "11a29442-a83c-47eb-b008-421ed55992c3",
   "metadata": {},
   "outputs": [
    {
     "data": {
      "text/plain": [
       "'MISTER QUILTER IS THE APOSTLE OF THE MIDDLE CLASSES AND WE ARE GLAD TO WELCOME HIS GOSPEL'"
      ]
     },
     "execution_count": 7,
     "metadata": {},
     "output_type": "execute_result"
    }
   ],
   "source": [
    "ds[0]['text']"
   ]
  },
  {
   "cell_type": "code",
   "execution_count": 8,
   "id": "d7ad5752-64af-46e5-bd92-3dcc43818c31",
   "metadata": {
    "tags": []
   },
   "outputs": [
    {
     "name": "stdout",
     "output_type": "stream",
     "text": [
      "['<s>mister quiller is the apostle of the middle classes and we are glad to welcome his gospel</s>']\n"
     ]
    }
   ],
   "source": [
    "label = None\n",
    "while True:\n",
    "    result = seed([torch.tensor(ds[0][\"audio\"][\"array\"], device=seed.device)],decoder_input_ids=label)\n",
    "    label = torch.tensor([[0]+result['logits'].tolist()[0]],device=seed.device)\n",
    "    if label.tolist()[-1][-1] == seed.tokenizer.eos_token_id:\n",
    "        break\n",
    "        \n",
    "print(seed.tokenizer.batch_decode(label))"
   ]
  }
 ],
 "metadata": {
  "kernelspec": {
   "display_name": "Python 3",
   "language": "python",
   "name": "python3"
  },
  "language_info": {
   "codemirror_mode": {
    "name": "ipython",
    "version": 3
   },
   "file_extension": ".py",
   "mimetype": "text/x-python",
   "name": "python",
   "nbconvert_exporter": "python",
   "pygments_lexer": "ipython3",
   "version": "3.6.9"
  }
 },
 "nbformat": 4,
 "nbformat_minor": 5
}